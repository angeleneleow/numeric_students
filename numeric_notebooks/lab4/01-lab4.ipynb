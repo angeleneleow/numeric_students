{
 "cells": [
  {
   "cell_type": "markdown",
   "metadata": {},
   "source": [
    "# Solving Ordinary Differential Equations with the Runge-Kutta Methods "
   ]
  },
  {
   "cell_type": "markdown",
   "metadata": {},
   "source": [
    "## List of Problems \n",
    "\n",
    "<!-- {#list-of-problems .unnumbered} -->\n",
    "\n",
    "- [Problem midpoint](#problem_midpoint)\n",
    "\n",
    "- [Problem tableau](#problem_tableau)\n",
    "\n",
    "- [Problem Runge Kutta4](#problemrk4)\n",
    "\n",
    "- [Problem embedded](#problem_embedded)\n",
    "\n",
    "- [Problem coding A](#prob_a)\n",
    "\n",
    "- [Problem coding B](#prob_b)\n",
    "\n",
    "- [Problem coding C](#prob_c)\n"
   ]
  },
  {
   "cell_type": "markdown",
   "metadata": {},
   "source": [
    "## Assignment handin  -- upload a single, fresh notebook that contains your answers\n",
    "\n",
    "* Assignment:  A409 do Problems 2 (tableau), 3 (Runge Kutta4), 4 (embedded), Coding A and Coding B\n",
    "\n",
    "* Assignment:  Grads do Problems 2 (tableau), 3 (Runge Kutta4), 4 (embedded), Coding A, Coding B and Coding C\n"
   ]
  },
  {
   "cell_type": "markdown",
   "metadata": {},
   "source": [
    "## Objectives\n",
    "In this lab, you will explore Runge-Kutta methods for solving ordinary\n",
    "differential equations. The goal is to gain a better understanding of\n",
    "some of the more popular Runge-Kutta methods and the corresponding\n",
    "numerical code.\n",
    "\n",
    "Specifically you will be able to:\n",
    "\n",
    "-   describe the mid-point method\n",
    "\n",
    "-   construct a Runge-Kutta tableau from equations or equations from a\n",
    "    tableau\n",
    "\n",
    "-   describe how a Runge-Kutta method estimates truncation error\n",
    "\n",
    "-   edit a working Octave code to use a different method or solve a\n",
    "    different problem"
   ]
  },
  {
   "cell_type": "markdown",
   "metadata": {},
   "source": [
    "## Readings\n",
    "\n",
    "\n",
    "There is no required reading for this lab, beyond the contents of the\n",
    "lab itself. However, if you would like additional background on any of\n",
    "the following topics, then refer to the sections indicated below.\n",
    "\n",
    "**Runge-Kutta Methods:**\n",
    "\n",
    "    -   Newman, Chapter 8\n",
    "\n",
    "    -   Press, et al.  Section 16.1\n",
    "\n",
    "    -   Burden & Faires  Section 5.4\n",
    "    "
   ]
  },
  {
   "cell_type": "markdown",
   "metadata": {},
   "source": [
    "## Introduction\n",
    "\n",
    "Ordinary differential equations (ODEs) arise in many physical\n",
    "situations. For example, there is the first-order Newton cooling\n",
    "equation discussed in , and perhaps the most famous equation of all, the\n",
    "second-order Newton’s Second Law of Mechanics $F=ma$ .\n",
    "\n",
    "In general, higher-order equations, such as Newton’s force equation, can\n",
    "be rewritten as a system of first-order equations . So the generic\n",
    "problem in ODEs is a set of N coupled first-order differential equations\n",
    "of the form, \n",
    "\n",
    "$$\n",
    "  \\frac{d{\\bf y}}{dt} = f({\\bf y},t)\n",
    "$$ \n",
    "  \n",
    "where ${\\bf y}$ is a vector of\n",
    "variables.\n",
    "\n",
    "For a complete specification of the solution, boundary conditions for\n",
    "the problem must be given. Typically, the problems are broken up into\n",
    "two classes:\n",
    "\n",
    "-   **Initial Value Problem (IVP)**: the initial values of\n",
    "    ${\\bf y}$ are specified.\n",
    "\n",
    "-   **Boundary Value Problem (BVP)**: ${\\bf y}$ is\n",
    "    specified at the initial and final times.\n",
    "\n",
    "For this lab, we are concerned with the IVP’s. BVP’s tend to be much\n",
    "more difficult to solve and involve techniques which will not be dealt\n",
    "with in this set of labs.\n",
    "\n",
    "Now as was pointed out in , in general, it will not be possible to find\n",
    "exact, analytic solutions to the ODE. However, it is possible to find an\n",
    "approximate solution with a finite difference scheme such as the forward\n",
    "Euler method . This is a simple first-order, one-step scheme which is\n",
    "easy to implement. However, this method is rarely used in practice as it\n",
    "is neither very stable nor accurate.\n",
    "\n",
    "The higher-order Taylor methods discussed in are one alternative but\n",
    "involve higher-order derivatives that must be calculated by hand or\n",
    "worked out numerically in a multi-step scheme. Like the forward Euler\n",
    "method, stability is a concern.\n",
    "\n",
    "The Runge-Kutta methods are higher-order, one-step schemes that makes\n",
    "use of information at different <span>*stages*</span> between the\n",
    "beginning and end of a step. They are more stable and accurate than the\n",
    "forward Euler method and are still relatively simple compared to schemes\n",
    "such as the multi-step predictor-corrector methods or the Bulirsch-Stoer\n",
    "method. Though they lack the accuracy and efficiency of these more\n",
    "sophisticated schemes, they are still powerful methods that almost\n",
    "always succeed for non-stiff IVPs."
   ]
  },
  {
   "cell_type": "markdown",
   "metadata": {},
   "source": [
    "## Runge-Kutta methods"
   ]
  },
  {
   "cell_type": "markdown",
   "metadata": {},
   "source": [
    "### The Midpoint Method: A Two-Stage Runge-Kutta Method \n",
    "\n",
    "The forward Euler method takes the solution at time $t_n$ and advances\n",
    "it to time $t_{n+1}$ using the value of the derivative $f(y_n,t_n)$ at\n",
    "time $t_n$ \n",
    "\n",
    "$$y_{n+1} = y_n + h f(y_n,t_n)$$ \n",
    "\n",
    "where $h \\equiv \\Delta t$."
   ]
  },
  {
   "cell_type": "markdown",
   "metadata": {
    "title": "[markdown"
   },
   "source": [
    "![fig1](images/euler.png)"
   ]
  },
  {
   "cell_type": "markdown",
   "metadata": {},
   "source": [
    "Figure euler: The forward Euler method is essentially a straight-line approximation\n",
    "to the solution, over the interval of one step, using the derivative at\n",
    "the starting point as the slope. \n",
    "\n",
    "The idea of the Runge-Kutta schemes is to take advantage of derivative\n",
    "information at the times between $t_n$ and $t_{n+1}$ to increase the\n",
    "order of accuracy.\n",
    "\n",
    "For example, in the midpoint method, the derivative at the initial time\n",
    "is used to approximate the derivative at the midpoint of the interval,\n",
    "$f(y_n+\\frac{1}{2}hf(y_n,t_n), t_n+\\frac{1}{2}h)$. The derivative at the\n",
    "midpoint is then used to advance the solution to the next step. The\n",
    "method can be written in two *stages* $k_i$,\n",
    "\n",
    "<div id=\"eq:midpoint\"><b>eq:midpoint</b></div>\n",
    "$$\n",
    "\\begin{aligned}\n",
    "   \\begin{array}{l}\n",
    "    k_1 =  h f(y_n,t_n)\\\\\n",
    "    k_2 = h f(y_n+\\frac{1}{2}k_1, t_n+\\frac{1}{2}h)\\\\\n",
    "    y_{n+1} = y_n + k_2\n",
    "  \\end{array}\n",
    "\\end{aligned}\n",
    "$$ \n",
    "\n",
    "The midpoint method is known\n",
    "as a 2-stage Runge-Kutta formula.\n",
    "\n"
   ]
  },
  {
   "cell_type": "markdown",
   "metadata": {},
   "source": [
    "![fig2](images/midpoint.png)"
   ]
  },
  {
   "cell_type": "markdown",
   "metadata": {},
   "source": [
    "Figure midpoint: The midpoint method again uses the derivative at the starting point to\n",
    "approximate the solution at the midpoint. The derivative at the midpoint\n",
    "is then used as the slope of the straight-line approximation."
   ]
  },
  {
   "cell_type": "markdown",
   "metadata": {},
   "source": [
    "### Second-Order Runge-Kutta Methods\n",
    "\n",
    "As was shown in lab 2 , the error in the forward Euler method is\n",
    "proportional to $h$. In other words, the forward Euler method has an\n",
    "accuracy which is *first order* in $h$.\n",
    "\n",
    "The advantage of the midpoint method is that the extra derivative\n",
    "information at the midpoint results in the first order error term\n",
    "cancelling out, making the method *second order* accurate.\n",
    "This can be shown by a Taylor expansion of equation\n",
    "[eq:midpoint](#eq:midpoint)\n",
    "\n",
    "<div id='problem_midpoint'><b>Problem midpoint</b></div>\n",
    "\n",
    "Even though the midpoint method is second-order\n",
    "accurate, it may still be less accurate than the forward Euler method.\n",
    "In the demo below, compare the accuracy of the two methods on the\n",
    "initial value problem \n",
    "\n",
    "<div id=\"eq:linexp\"><b>eq:linexp</b></div>\n",
    "\\begin{equation}\n",
    "\\frac{dy}{dt} = -y +t +1,  \\;\\;\\;\\; y(0) =1\n",
    "\\end{equation}\n",
    "\n",
    "which has the exact\n",
    "solution \n",
    "\\begin{equation}\n",
    "y(t) = t + e^{-t}\n",
    "\\end{equation}"
   ]
  },
  {
   "cell_type": "markdown",
   "metadata": {},
   "source": [
    "1.  Why is it possible that the midpoint method may be less accurate\n",
    "    than the forward Euler method, even though it is a higher order\n",
    "    method?\n",
    "\n",
    "2.  Based on the numerical solutions of [eq:linexp](#eq:linexp), which method\n",
    "    appears more accurate?\n",
    "\n",
    "3.  Cut the stepsize in half and check the error at a given time. Repeat\n",
    "    a couple of more times. How does the error drop relative to the\n",
    "    change in stepsize?\n",
    "\n",
    "4.  How do the numerical solutions compare to $y(t) = t + e^{-t}$ when\n",
    "    you change the initial time? Why?"
   ]
  },
  {
   "cell_type": "code",
   "execution_count": 1,
   "metadata": {},
   "outputs": [
    {
     "name": "stdout",
     "output_type": "stream",
     "text": "******************************\ncontext imported. Front of path:\n/Users/angeleneleow/Dropbox/4th year- term2/atsc409/numeric_students\nback of path: /Users/angeleneleow/.ipython\n******************************\n\nthrough /Users/angeleneleow/Dropbox/4th year- term2/atsc409/numeric_students/numeric_notebooks/lab4/context.py\n"
    },
    {
     "data": {
      "image/png": "[encoded data removed]",
      "image/svg+xml": "<?xml version=\"1.0\" encoding=\"utf-8\" standalone=\"no\"?>\n<!DOCTYPE svg PUBLIC \"-//W3C//DTD SVG 1.1//EN\"\n  \"http://www.w3.org/Graphics/SVG/1.1/DTD/svg11.dtd\">\n<!-- Created with matplotlib (https://matplotlib.org/) -->\n<svg height=\"277.314375pt\" version=\"1.1\" viewBox=\"0 0 378.465625 277.314375\" width=\"378.465625pt\" xmlns=\"http://www.w3.org/2000/svg\" xmlns:xlink=\"http://www.w3.org/1999/xlink\">\n <defs>\n  <style type=\"text/css\">\n*{stroke-linecap:butt;stroke-linejoin:round;}\n  </style>\n </defs>\n <g id=\"figure_1\">\n  <g id=\"patch_1\">\n   <path d=\"M 0 277.314375 \nL 378.465625 277.314375 \nL 378.465625 0 \nL 0 0 \nz\n\" style=\"fill:none;\"/>\n  </g>\n  <g id=\"axes_1\">\n   <g id=\"patch_2\">\n    <path d=\"M 36.465625 239.758125 \nL 371.265625 239.758125 \nL 371.265625 22.318125 \nL 36.465625 22.318125 \nz\n\" style=\"fill:#ffffff;\"/>\n   </g>\n   <g id=\"matplotlib.axis_1\">\n    <g id=\"xtick_1\">\n     <g id=\"line2d_1\">\n      <defs>\n       <path d=\"M 0 0 \nL 0 3.5 \n\" id=\"m6556e0ed14\" style=\"stroke:#000000;stroke-width:0.8;\"/>\n      </defs>\n      <g>\n       <use style=\"stroke:#000000;stroke-width:0.8;\" x=\"51.683807\" xlink:href=\"#m6556e0ed14\" y=\"239.758125\"/>\n      </g>\n     </g>\n     <g id=\"text_1\">\n      <!-- 0.0 -->\n      <defs>\n       <path d=\"M 31.78125 66.40625 \nQ 24.171875 66.40625 20.328125 58.90625 \nQ 16.5 51.421875 16.5 36.375 \nQ 16.5 21.390625 20.328125 13.890625 \nQ 24.171875 6.390625 31.78125 6.390625 \nQ 39.453125 6.390625 43.28125 13.890625 \nQ 47.125 21.390625 47.125 36.375 \nQ 47.125 51.421875 43.28125 58.90625 \nQ 39.453125 66.40625 31.78125 66.40625 \nz\nM 31.78125 74.21875 \nQ 44.046875 74.21875 50.515625 64.515625 \nQ 56.984375 54.828125 56.984375 36.375 \nQ 56.984375 17.96875 50.515625 8.265625 \nQ 44.046875 -1.421875 31.78125 -1.421875 \nQ 19.53125 -1.421875 13.0625 8.265625 \nQ 6.59375 17.96875 6.59375 36.375 \nQ 6.59375 54.828125 13.0625 64.515625 \nQ 19.53125 74.21875 31.78125 74.21875 \nz\n\" id=\"DejaVuSans-48\"/>\n       <path d=\"M 10.6875 12.40625 \nL 21 12.40625 \nL 21 0 \nL 10.6875 0 \nz\n\" id=\"DejaVuSans-46\"/>\n      </defs>\n      <g transform=\"translate(43.732244 254.356562)scale(0.1 -0.1)\">\n       <use xlink:href=\"#DejaVuSans-48\"/>\n       <use x=\"63.623047\" xlink:href=\"#DejaVuSans-46\"/>\n       <use x=\"95.410156\" xlink:href=\"#DejaVuSans-48\"/>\n      </g>\n     </g>\n    </g>\n    <g id=\"xtick_2\">\n     <g id=\"line2d_2\">\n      <g>\n       <use style=\"stroke:#000000;stroke-width:0.8;\" x=\"92.265625\" xlink:href=\"#m6556e0ed14\" y=\"239.758125\"/>\n      </g>\n     </g>\n     <g id=\"text_2\">\n      <!-- 0.1 -->\n      <defs>\n       <path d=\"M 12.40625 8.296875 \nL 28.515625 8.296875 \nL 28.515625 63.921875 \nL 10.984375 60.40625 \nL 10.984375 69.390625 \nL 28.421875 72.90625 \nL 38.28125 72.90625 \nL 38.28125 8.296875 \nL 54.390625 8.296875 \nL 54.390625 0 \nL 12.40625 0 \nz\n\" id=\"DejaVuSans-49\"/>\n      </defs>\n      <g transform=\"translate(84.314063 254.356562)scale(0.1 -0.1)\">\n       <use xlink:href=\"#DejaVuSans-48\"/>\n       <use x=\"63.623047\" xlink:href=\"#DejaVuSans-46\"/>\n       <use x=\"95.410156\" xlink:href=\"#DejaVuSans-49\"/>\n      </g>\n     </g>\n    </g>\n    <g id=\"xtick_3\">\n     <g id=\"line2d_3\">\n      <g>\n       <use style=\"stroke:#000000;stroke-width:0.8;\" x=\"132.847443\" xlink:href=\"#m6556e0ed14\" y=\"239.758125\"/>\n      </g>\n     </g>\n     <g id=\"text_3\">\n      <!-- 0.2 -->\n      <defs>\n       <path d=\"M 19.1875 8.296875 \nL 53.609375 8.296875 \nL 53.609375 0 \nL 7.328125 0 \nL 7.328125 8.296875 \nQ 12.9375 14.109375 22.625 23.890625 \nQ 32.328125 33.6875 34.8125 36.53125 \nQ 39.546875 41.84375 41.421875 45.53125 \nQ 43.3125 49.21875 43.3125 52.78125 \nQ 43.3125 58.59375 39.234375 62.25 \nQ 35.15625 65.921875 28.609375 65.921875 \nQ 23.96875 65.921875 18.8125 64.3125 \nQ 13.671875 62.703125 7.8125 59.421875 \nL 7.8125 69.390625 \nQ 13.765625 71.78125 18.9375 73 \nQ 24.125 74.21875 28.421875 74.21875 \nQ 39.75 74.21875 46.484375 68.546875 \nQ 53.21875 62.890625 53.21875 53.421875 \nQ 53.21875 48.921875 51.53125 44.890625 \nQ 49.859375 40.875 45.40625 35.40625 \nQ 44.1875 33.984375 37.640625 27.21875 \nQ 31.109375 20.453125 19.1875 8.296875 \nz\n\" id=\"DejaVuSans-50\"/>\n      </defs>\n      <g transform=\"translate(124.895881 254.356562)scale(0.1 -0.1)\">\n       <use xlink:href=\"#DejaVuSans-48\"/>\n       <use x=\"63.623047\" xlink:href=\"#DejaVuSans-46\"/>\n       <use x=\"95.410156\" xlink:href=\"#DejaVuSans-50\"/>\n      </g>\n     </g>\n    </g>\n    <g id=\"xtick_4\">\n     <g id=\"line2d_4\">\n      <g>\n       <use style=\"stroke:#000000;stroke-width:0.8;\" x=\"173.429261\" xlink:href=\"#m6556e0ed14\" y=\"239.758125\"/>\n      </g>\n     </g>\n     <g id=\"text_4\">\n      <!-- 0.3 -->\n      <defs>\n       <path d=\"M 40.578125 39.3125 \nQ 47.65625 37.796875 51.625 33 \nQ 55.609375 28.21875 55.609375 21.1875 \nQ 55.609375 10.40625 48.1875 4.484375 \nQ 40.765625 -1.421875 27.09375 -1.421875 \nQ 22.515625 -1.421875 17.65625 -0.515625 \nQ 12.796875 0.390625 7.625 2.203125 \nL 7.625 11.71875 \nQ 11.71875 9.328125 16.59375 8.109375 \nQ 21.484375 6.890625 26.8125 6.890625 \nQ 36.078125 6.890625 40.9375 10.546875 \nQ 45.796875 14.203125 45.796875 21.1875 \nQ 45.796875 27.640625 41.28125 31.265625 \nQ 36.765625 34.90625 28.71875 34.90625 \nL 20.21875 34.90625 \nL 20.21875 43.015625 \nL 29.109375 43.015625 \nQ 36.375 43.015625 40.234375 45.921875 \nQ 44.09375 48.828125 44.09375 54.296875 \nQ 44.09375 59.90625 40.109375 62.90625 \nQ 36.140625 65.921875 28.71875 65.921875 \nQ 24.65625 65.921875 20.015625 65.03125 \nQ 15.375 64.15625 9.8125 62.3125 \nL 9.8125 71.09375 \nQ 15.4375 72.65625 20.34375 73.4375 \nQ 25.25 74.21875 29.59375 74.21875 \nQ 40.828125 74.21875 47.359375 69.109375 \nQ 53.90625 64.015625 53.90625 55.328125 \nQ 53.90625 49.265625 50.4375 45.09375 \nQ 46.96875 40.921875 40.578125 39.3125 \nz\n\" id=\"DejaVuSans-51\"/>\n      </defs>\n      <g transform=\"translate(165.477699 254.356562)scale(0.1 -0.1)\">\n       <use xlink:href=\"#DejaVuSans-48\"/>\n       <use x=\"63.623047\" xlink:href=\"#DejaVuSans-46\"/>\n       <use x=\"95.410156\" xlink:href=\"#DejaVuSans-51\"/>\n      </g>\n     </g>\n    </g>\n    <g id=\"xtick_5\">\n     <g id=\"line2d_5\">\n      <g>\n       <use style=\"stroke:#000000;stroke-width:0.8;\" x=\"214.01108\" xlink:href=\"#m6556e0ed14\" y=\"239.758125\"/>\n      </g>\n     </g>\n     <g id=\"text_5\">\n      <!-- 0.4 -->\n      <defs>\n       <path d=\"M 37.796875 64.3125 \nL 12.890625 25.390625 \nL 37.796875 25.390625 \nz\nM 35.203125 72.90625 \nL 47.609375 72.90625 \nL 47.609375 25.390625 \nL 58.015625 25.390625 \nL 58.015625 17.1875 \nL 47.609375 17.1875 \nL 47.609375 0 \nL 37.796875 0 \nL 37.796875 17.1875 \nL 4.890625 17.1875 \nL 4.890625 26.703125 \nz\n\" id=\"DejaVuSans-52\"/>\n      </defs>\n      <g transform=\"translate(206.059517 254.356562)scale(0.1 -0.1)\">\n       <use xlink:href=\"#DejaVuSans-48\"/>\n       <use x=\"63.623047\" xlink:href=\"#DejaVuSans-46\"/>\n       <use x=\"95.410156\" xlink:href=\"#DejaVuSans-52\"/>\n      </g>\n     </g>\n    </g>\n    <g id=\"xtick_6\">\n     <g id=\"line2d_6\">\n      <g>\n       <use style=\"stroke:#000000;stroke-width:0.8;\" x=\"254.592898\" xlink:href=\"#m6556e0ed14\" y=\"239.758125\"/>\n      </g>\n     </g>\n     <g id=\"text_6\">\n      <!-- 0.5 -->\n      <defs>\n       <path d=\"M 10.796875 72.90625 \nL 49.515625 72.90625 \nL 49.515625 64.59375 \nL 19.828125 64.59375 \nL 19.828125 46.734375 \nQ 21.96875 47.46875 24.109375 47.828125 \nQ 26.265625 48.1875 28.421875 48.1875 \nQ 40.625 48.1875 47.75 41.5 \nQ 54.890625 34.8125 54.890625 23.390625 \nQ 54.890625 11.625 47.5625 5.09375 \nQ 40.234375 -1.421875 26.90625 -1.421875 \nQ 22.3125 -1.421875 17.546875 -0.640625 \nQ 12.796875 0.140625 7.71875 1.703125 \nL 7.71875 11.625 \nQ 12.109375 9.234375 16.796875 8.0625 \nQ 21.484375 6.890625 26.703125 6.890625 \nQ 35.15625 6.890625 40.078125 11.328125 \nQ 45.015625 15.765625 45.015625 23.390625 \nQ 45.015625 31 40.078125 35.4375 \nQ 35.15625 39.890625 26.703125 39.890625 \nQ 22.75 39.890625 18.8125 39.015625 \nQ 14.890625 38.140625 10.796875 36.28125 \nz\n\" id=\"DejaVuSans-53\"/>\n      </defs>\n      <g transform=\"translate(246.641335 254.356562)scale(0.1 -0.1)\">\n       <use xlink:href=\"#DejaVuSans-48\"/>\n       <use x=\"63.623047\" xlink:href=\"#DejaVuSans-46\"/>\n       <use x=\"95.410156\" xlink:href=\"#DejaVuSans-53\"/>\n      </g>\n     </g>\n    </g>\n    <g id=\"xtick_7\">\n     <g id=\"line2d_7\">\n      <g>\n       <use style=\"stroke:#000000;stroke-width:0.8;\" x=\"295.174716\" xlink:href=\"#m6556e0ed14\" y=\"239.758125\"/>\n      </g>\n     </g>\n     <g id=\"text_7\">\n      <!-- 0.6 -->\n      <defs>\n       <path d=\"M 33.015625 40.375 \nQ 26.375 40.375 22.484375 35.828125 \nQ 18.609375 31.296875 18.609375 23.390625 \nQ 18.609375 15.53125 22.484375 10.953125 \nQ 26.375 6.390625 33.015625 6.390625 \nQ 39.65625 6.390625 43.53125 10.953125 \nQ 47.40625 15.53125 47.40625 23.390625 \nQ 47.40625 31.296875 43.53125 35.828125 \nQ 39.65625 40.375 33.015625 40.375 \nz\nM 52.59375 71.296875 \nL 52.59375 62.3125 \nQ 48.875 64.0625 45.09375 64.984375 \nQ 41.3125 65.921875 37.59375 65.921875 \nQ 27.828125 65.921875 22.671875 59.328125 \nQ 17.53125 52.734375 16.796875 39.40625 \nQ 19.671875 43.65625 24.015625 45.921875 \nQ 28.375 48.1875 33.59375 48.1875 \nQ 44.578125 48.1875 50.953125 41.515625 \nQ 57.328125 34.859375 57.328125 23.390625 \nQ 57.328125 12.15625 50.6875 5.359375 \nQ 44.046875 -1.421875 33.015625 -1.421875 \nQ 20.359375 -1.421875 13.671875 8.265625 \nQ 6.984375 17.96875 6.984375 36.375 \nQ 6.984375 53.65625 15.1875 63.9375 \nQ 23.390625 74.21875 37.203125 74.21875 \nQ 40.921875 74.21875 44.703125 73.484375 \nQ 48.484375 72.75 52.59375 71.296875 \nz\n\" id=\"DejaVuSans-54\"/>\n      </defs>\n      <g transform=\"translate(287.223153 254.356562)scale(0.1 -0.1)\">\n       <use xlink:href=\"#DejaVuSans-48\"/>\n       <use x=\"63.623047\" xlink:href=\"#DejaVuSans-46\"/>\n       <use x=\"95.410156\" xlink:href=\"#DejaVuSans-54\"/>\n      </g>\n     </g>\n    </g>\n    <g id=\"xtick_8\">\n     <g id=\"line2d_8\">\n      <g>\n       <use style=\"stroke:#000000;stroke-width:0.8;\" x=\"335.756534\" xlink:href=\"#m6556e0ed14\" y=\"239.758125\"/>\n      </g>\n     </g>\n     <g id=\"text_8\">\n      <!-- 0.7 -->\n      <defs>\n       <path d=\"M 8.203125 72.90625 \nL 55.078125 72.90625 \nL 55.078125 68.703125 \nL 28.609375 0 \nL 18.3125 0 \nL 43.21875 64.59375 \nL 8.203125 64.59375 \nz\n\" id=\"DejaVuSans-55\"/>\n      </defs>\n      <g transform=\"translate(327.804972 254.356562)scale(0.1 -0.1)\">\n       <use xlink:href=\"#DejaVuSans-48\"/>\n       <use x=\"63.623047\" xlink:href=\"#DejaVuSans-46\"/>\n       <use x=\"95.410156\" xlink:href=\"#DejaVuSans-55\"/>\n      </g>\n     </g>\n    </g>\n    <g id=\"text_9\">\n     <!-- time (seconds) -->\n     <defs>\n      <path d=\"M 18.3125 70.21875 \nL 18.3125 54.6875 \nL 36.8125 54.6875 \nL 36.8125 47.703125 \nL 18.3125 47.703125 \nL 18.3125 18.015625 \nQ 18.3125 11.328125 20.140625 9.421875 \nQ 21.96875 7.515625 27.59375 7.515625 \nL 36.8125 7.515625 \nL 36.8125 0 \nL 27.59375 0 \nQ 17.1875 0 13.234375 3.875 \nQ 9.28125 7.765625 9.28125 18.015625 \nL 9.28125 47.703125 \nL 2.6875 47.703125 \nL 2.6875 54.6875 \nL 9.28125 54.6875 \nL 9.28125 70.21875 \nz\n\" id=\"DejaVuSans-116\"/>\n      <path d=\"M 9.421875 54.6875 \nL 18.40625 54.6875 \nL 18.40625 0 \nL 9.421875 0 \nz\nM 9.421875 75.984375 \nL 18.40625 75.984375 \nL 18.40625 64.59375 \nL 9.421875 64.59375 \nz\n\" id=\"DejaVuSans-105\"/>\n      <path d=\"M 52 44.1875 \nQ 55.375 50.25 60.0625 53.125 \nQ 64.75 56 71.09375 56 \nQ 79.640625 56 84.28125 50.015625 \nQ 88.921875 44.046875 88.921875 33.015625 \nL 88.921875 0 \nL 79.890625 0 \nL 79.890625 32.71875 \nQ 79.890625 40.578125 77.09375 44.375 \nQ 74.3125 48.1875 68.609375 48.1875 \nQ 61.625 48.1875 57.5625 43.546875 \nQ 53.515625 38.921875 53.515625 30.90625 \nL 53.515625 0 \nL 44.484375 0 \nL 44.484375 32.71875 \nQ 44.484375 40.625 41.703125 44.40625 \nQ 38.921875 48.1875 33.109375 48.1875 \nQ 26.21875 48.1875 22.15625 43.53125 \nQ 18.109375 38.875 18.109375 30.90625 \nL 18.109375 0 \nL 9.078125 0 \nL 9.078125 54.6875 \nL 18.109375 54.6875 \nL 18.109375 46.1875 \nQ 21.1875 51.21875 25.484375 53.609375 \nQ 29.78125 56 35.6875 56 \nQ 41.65625 56 45.828125 52.96875 \nQ 50 49.953125 52 44.1875 \nz\n\" id=\"DejaVuSans-109\"/>\n      <path d=\"M 56.203125 29.59375 \nL 56.203125 25.203125 \nL 14.890625 25.203125 \nQ 15.484375 15.921875 20.484375 11.0625 \nQ 25.484375 6.203125 34.421875 6.203125 \nQ 39.59375 6.203125 44.453125 7.46875 \nQ 49.3125 8.734375 54.109375 11.28125 \nL 54.109375 2.78125 \nQ 49.265625 0.734375 44.1875 -0.34375 \nQ 39.109375 -1.421875 33.890625 -1.421875 \nQ 20.796875 -1.421875 13.15625 6.1875 \nQ 5.515625 13.8125 5.515625 26.8125 \nQ 5.515625 40.234375 12.765625 48.109375 \nQ 20.015625 56 32.328125 56 \nQ 43.359375 56 49.78125 48.890625 \nQ 56.203125 41.796875 56.203125 29.59375 \nz\nM 47.21875 32.234375 \nQ 47.125 39.59375 43.09375 43.984375 \nQ 39.0625 48.390625 32.421875 48.390625 \nQ 24.90625 48.390625 20.390625 44.140625 \nQ 15.875 39.890625 15.1875 32.171875 \nz\n\" id=\"DejaVuSans-101\"/>\n      <path id=\"DejaVuSans-32\"/>\n      <path d=\"M 31 75.875 \nQ 24.46875 64.65625 21.28125 53.65625 \nQ 18.109375 42.671875 18.109375 31.390625 \nQ 18.109375 20.125 21.3125 9.0625 \nQ 24.515625 -2 31 -13.1875 \nL 23.1875 -13.1875 \nQ 15.875 -1.703125 12.234375 9.375 \nQ 8.59375 20.453125 8.59375 31.390625 \nQ 8.59375 42.28125 12.203125 53.3125 \nQ 15.828125 64.359375 23.1875 75.875 \nz\n\" id=\"DejaVuSans-40\"/>\n      <path d=\"M 44.28125 53.078125 \nL 44.28125 44.578125 \nQ 40.484375 46.53125 36.375 47.5 \nQ 32.28125 48.484375 27.875 48.484375 \nQ 21.1875 48.484375 17.84375 46.4375 \nQ 14.5 44.390625 14.5 40.28125 \nQ 14.5 37.15625 16.890625 35.375 \nQ 19.28125 33.59375 26.515625 31.984375 \nL 29.59375 31.296875 \nQ 39.15625 29.25 43.1875 25.515625 \nQ 47.21875 21.78125 47.21875 15.09375 \nQ 47.21875 7.46875 41.1875 3.015625 \nQ 35.15625 -1.421875 24.609375 -1.421875 \nQ 20.21875 -1.421875 15.453125 -0.5625 \nQ 10.6875 0.296875 5.421875 2 \nL 5.421875 11.28125 \nQ 10.40625 8.6875 15.234375 7.390625 \nQ 20.0625 6.109375 24.8125 6.109375 \nQ 31.15625 6.109375 34.5625 8.28125 \nQ 37.984375 10.453125 37.984375 14.40625 \nQ 37.984375 18.0625 35.515625 20.015625 \nQ 33.0625 21.96875 24.703125 23.78125 \nL 21.578125 24.515625 \nQ 13.234375 26.265625 9.515625 29.90625 \nQ 5.8125 33.546875 5.8125 39.890625 \nQ 5.8125 47.609375 11.28125 51.796875 \nQ 16.75 56 26.8125 56 \nQ 31.78125 56 36.171875 55.265625 \nQ 40.578125 54.546875 44.28125 53.078125 \nz\n\" id=\"DejaVuSans-115\"/>\n      <path d=\"M 48.78125 52.59375 \nL 48.78125 44.1875 \nQ 44.96875 46.296875 41.140625 47.34375 \nQ 37.3125 48.390625 33.40625 48.390625 \nQ 24.65625 48.390625 19.8125 42.84375 \nQ 14.984375 37.3125 14.984375 27.296875 \nQ 14.984375 17.28125 19.8125 11.734375 \nQ 24.65625 6.203125 33.40625 6.203125 \nQ 37.3125 6.203125 41.140625 7.25 \nQ 44.96875 8.296875 48.78125 10.40625 \nL 48.78125 2.09375 \nQ 45.015625 0.34375 40.984375 -0.53125 \nQ 36.96875 -1.421875 32.421875 -1.421875 \nQ 20.0625 -1.421875 12.78125 6.34375 \nQ 5.515625 14.109375 5.515625 27.296875 \nQ 5.515625 40.671875 12.859375 48.328125 \nQ 20.21875 56 33.015625 56 \nQ 37.15625 56 41.109375 55.140625 \nQ 45.0625 54.296875 48.78125 52.59375 \nz\n\" id=\"DejaVuSans-99\"/>\n      <path d=\"M 30.609375 48.390625 \nQ 23.390625 48.390625 19.1875 42.75 \nQ 14.984375 37.109375 14.984375 27.296875 \nQ 14.984375 17.484375 19.15625 11.84375 \nQ 23.34375 6.203125 30.609375 6.203125 \nQ 37.796875 6.203125 41.984375 11.859375 \nQ 46.1875 17.53125 46.1875 27.296875 \nQ 46.1875 37.015625 41.984375 42.703125 \nQ 37.796875 48.390625 30.609375 48.390625 \nz\nM 30.609375 56 \nQ 42.328125 56 49.015625 48.375 \nQ 55.71875 40.765625 55.71875 27.296875 \nQ 55.71875 13.875 49.015625 6.21875 \nQ 42.328125 -1.421875 30.609375 -1.421875 \nQ 18.84375 -1.421875 12.171875 6.21875 \nQ 5.515625 13.875 5.515625 27.296875 \nQ 5.515625 40.765625 12.171875 48.375 \nQ 18.84375 56 30.609375 56 \nz\n\" id=\"DejaVuSans-111\"/>\n      <path d=\"M 54.890625 33.015625 \nL 54.890625 0 \nL 45.90625 0 \nL 45.90625 32.71875 \nQ 45.90625 40.484375 42.875 44.328125 \nQ 39.84375 48.1875 33.796875 48.1875 \nQ 26.515625 48.1875 22.3125 43.546875 \nQ 18.109375 38.921875 18.109375 30.90625 \nL 18.109375 0 \nL 9.078125 0 \nL 9.078125 54.6875 \nL 18.109375 54.6875 \nL 18.109375 46.1875 \nQ 21.34375 51.125 25.703125 53.5625 \nQ 30.078125 56 35.796875 56 \nQ 45.21875 56 50.046875 50.171875 \nQ 54.890625 44.34375 54.890625 33.015625 \nz\n\" id=\"DejaVuSans-110\"/>\n      <path d=\"M 45.40625 46.390625 \nL 45.40625 75.984375 \nL 54.390625 75.984375 \nL 54.390625 0 \nL 45.40625 0 \nL 45.40625 8.203125 \nQ 42.578125 3.328125 38.25 0.953125 \nQ 33.9375 -1.421875 27.875 -1.421875 \nQ 17.96875 -1.421875 11.734375 6.484375 \nQ 5.515625 14.40625 5.515625 27.296875 \nQ 5.515625 40.1875 11.734375 48.09375 \nQ 17.96875 56 27.875 56 \nQ 33.9375 56 38.25 53.625 \nQ 42.578125 51.265625 45.40625 46.390625 \nz\nM 14.796875 27.296875 \nQ 14.796875 17.390625 18.875 11.75 \nQ 22.953125 6.109375 30.078125 6.109375 \nQ 37.203125 6.109375 41.296875 11.75 \nQ 45.40625 17.390625 45.40625 27.296875 \nQ 45.40625 37.203125 41.296875 42.84375 \nQ 37.203125 48.484375 30.078125 48.484375 \nQ 22.953125 48.484375 18.875 42.84375 \nQ 14.796875 37.203125 14.796875 27.296875 \nz\n\" id=\"DejaVuSans-100\"/>\n      <path d=\"M 8.015625 75.875 \nL 15.828125 75.875 \nQ 23.140625 64.359375 26.78125 53.3125 \nQ 30.421875 42.28125 30.421875 31.390625 \nQ 30.421875 20.453125 26.78125 9.375 \nQ 23.140625 -1.703125 15.828125 -13.1875 \nL 8.015625 -13.1875 \nQ 14.5 -2 17.703125 9.0625 \nQ 20.90625 20.125 20.90625 31.390625 \nQ 20.90625 42.671875 17.703125 53.65625 \nQ 14.5 64.65625 8.015625 75.875 \nz\n\" id=\"DejaVuSans-41\"/>\n     </defs>\n     <g transform=\"translate(166.641406 268.034687)scale(0.1 -0.1)\">\n      <use xlink:href=\"#DejaVuSans-116\"/>\n      <use x=\"39.208984\" xlink:href=\"#DejaVuSans-105\"/>\n      <use x=\"66.992188\" xlink:href=\"#DejaVuSans-109\"/>\n      <use x=\"164.404297\" xlink:href=\"#DejaVuSans-101\"/>\n      <use x=\"225.927734\" xlink:href=\"#DejaVuSans-32\"/>\n      <use x=\"257.714844\" xlink:href=\"#DejaVuSans-40\"/>\n      <use x=\"296.728516\" xlink:href=\"#DejaVuSans-115\"/>\n      <use x=\"348.828125\" xlink:href=\"#DejaVuSans-101\"/>\n      <use x=\"410.351562\" xlink:href=\"#DejaVuSans-99\"/>\n      <use x=\"465.332031\" xlink:href=\"#DejaVuSans-111\"/>\n      <use x=\"526.513672\" xlink:href=\"#DejaVuSans-110\"/>\n      <use x=\"589.892578\" xlink:href=\"#DejaVuSans-100\"/>\n      <use x=\"653.369141\" xlink:href=\"#DejaVuSans-115\"/>\n      <use x=\"705.46875\" xlink:href=\"#DejaVuSans-41\"/>\n     </g>\n    </g>\n   </g>\n   <g id=\"matplotlib.axis_2\">\n    <g id=\"ytick_1\">\n     <g id=\"line2d_9\">\n      <defs>\n       <path d=\"M 0 0 \nL -3.5 0 \n\" id=\"m5a5dd9e509\" style=\"stroke:#000000;stroke-width:0.8;\"/>\n      </defs>\n      <g>\n       <use style=\"stroke:#000000;stroke-width:0.8;\" x=\"36.465625\" xlink:href=\"#m5a5dd9e509\" y=\"229.874489\"/>\n      </g>\n     </g>\n     <g id=\"text_10\">\n      <!-- 1.00 -->\n      <g transform=\"translate(7.2 233.673707)scale(0.1 -0.1)\">\n       <use xlink:href=\"#DejaVuSans-49\"/>\n       <use x=\"63.623047\" xlink:href=\"#DejaVuSans-46\"/>\n       <use x=\"95.410156\" xlink:href=\"#DejaVuSans-48\"/>\n       <use x=\"159.033203\" xlink:href=\"#DejaVuSans-48\"/>\n      </g>\n     </g>\n    </g>\n    <g id=\"ytick_2\">\n     <g id=\"line2d_10\">\n      <g>\n       <use style=\"stroke:#000000;stroke-width:0.8;\" x=\"36.465625\" xlink:href=\"#m5a5dd9e509\" y=\"186.302984\"/>\n      </g>\n     </g>\n     <g id=\"text_11\">\n      <!-- 1.05 -->\n      <g transform=\"translate(7.2 190.102202)scale(0.1 -0.1)\">\n       <use xlink:href=\"#DejaVuSans-49\"/>\n       <use x=\"63.623047\" xlink:href=\"#DejaVuSans-46\"/>\n       <use x=\"95.410156\" xlink:href=\"#DejaVuSans-48\"/>\n       <use x=\"159.033203\" xlink:href=\"#DejaVuSans-53\"/>\n      </g>\n     </g>\n    </g>\n    <g id=\"ytick_3\">\n     <g id=\"line2d_11\">\n      <g>\n       <use style=\"stroke:#000000;stroke-width:0.8;\" x=\"36.465625\" xlink:href=\"#m5a5dd9e509\" y=\"142.731479\"/>\n      </g>\n     </g>\n     <g id=\"text_12\">\n      <!-- 1.10 -->\n      <g transform=\"translate(7.2 146.530697)scale(0.1 -0.1)\">\n       <use xlink:href=\"#DejaVuSans-49\"/>\n       <use x=\"63.623047\" xlink:href=\"#DejaVuSans-46\"/>\n       <use x=\"95.410156\" xlink:href=\"#DejaVuSans-49\"/>\n       <use x=\"159.033203\" xlink:href=\"#DejaVuSans-48\"/>\n      </g>\n     </g>\n    </g>\n    <g id=\"ytick_4\">\n     <g id=\"line2d_12\">\n      <g>\n       <use style=\"stroke:#000000;stroke-width:0.8;\" x=\"36.465625\" xlink:href=\"#m5a5dd9e509\" y=\"99.159974\"/>\n      </g>\n     </g>\n     <g id=\"text_13\">\n      <!-- 1.15 -->\n      <g transform=\"translate(7.2 102.959193)scale(0.1 -0.1)\">\n       <use xlink:href=\"#DejaVuSans-49\"/>\n       <use x=\"63.623047\" xlink:href=\"#DejaVuSans-46\"/>\n       <use x=\"95.410156\" xlink:href=\"#DejaVuSans-49\"/>\n       <use x=\"159.033203\" xlink:href=\"#DejaVuSans-53\"/>\n      </g>\n     </g>\n    </g>\n    <g id=\"ytick_5\">\n     <g id=\"line2d_13\">\n      <g>\n       <use style=\"stroke:#000000;stroke-width:0.8;\" x=\"36.465625\" xlink:href=\"#m5a5dd9e509\" y=\"55.588469\"/>\n      </g>\n     </g>\n     <g id=\"text_14\">\n      <!-- 1.20 -->\n      <g transform=\"translate(7.2 59.387688)scale(0.1 -0.1)\">\n       <use xlink:href=\"#DejaVuSans-49\"/>\n       <use x=\"63.623047\" xlink:href=\"#DejaVuSans-46\"/>\n       <use x=\"95.410156\" xlink:href=\"#DejaVuSans-50\"/>\n       <use x=\"159.033203\" xlink:href=\"#DejaVuSans-48\"/>\n      </g>\n     </g>\n    </g>\n   </g>\n   <g id=\"line2d_14\">\n    <path clip-path=\"url(#pbd15d047f2)\" d=\"M 51.683807 229.874489 \nL 153.138352 204.776619 \nL 254.592898 137.040465 \nL 356.047443 36.097582 \n\" style=\"fill:none;stroke:#0000ff;stroke-linecap:square;stroke-width:1.5;\"/>\n   </g>\n   <g id=\"line2d_15\">\n    <path clip-path=\"url(#pbd15d047f2)\" d=\"M 51.683807 229.874489 \nL 153.138352 229.874489 \nL 254.592898 154.985964 \nL 356.047443 48.822971 \n\" style=\"fill:none;stroke:#ff0000;stroke-linecap:square;stroke-width:1.5;\"/>\n   </g>\n   <g id=\"line2d_16\">\n    <path clip-path=\"url(#pbd15d047f2)\" d=\"M 51.683807 229.874489 \nL 153.138352 202.642298 \nL 254.592898 133.710816 \nL 356.047443 32.201761 \n\" style=\"fill:none;stroke:#008000;stroke-linecap:square;stroke-width:1.5;\"/>\n   </g>\n   <g id=\"patch_3\">\n    <path d=\"M 36.465625 239.758125 \nL 36.465625 22.318125 \n\" style=\"fill:none;stroke:#000000;stroke-linecap:square;stroke-linejoin:miter;stroke-width:0.8;\"/>\n   </g>\n   <g id=\"patch_4\">\n    <path d=\"M 371.265625 239.758125 \nL 371.265625 22.318125 \n\" style=\"fill:none;stroke:#000000;stroke-linecap:square;stroke-linejoin:miter;stroke-width:0.8;\"/>\n   </g>\n   <g id=\"patch_5\">\n    <path d=\"M 36.465625 239.758125 \nL 371.265625 239.758125 \n\" style=\"fill:none;stroke:#000000;stroke-linecap:square;stroke-linejoin:miter;stroke-width:0.8;\"/>\n   </g>\n   <g id=\"patch_6\">\n    <path d=\"M 36.465625 22.318125 \nL 371.265625 22.318125 \n\" style=\"fill:none;stroke:#000000;stroke-linecap:square;stroke-linejoin:miter;stroke-width:0.8;\"/>\n   </g>\n   <g id=\"text_15\">\n    <!-- interactive 4.1 -->\n    <defs>\n     <path d=\"M 41.109375 46.296875 \nQ 39.59375 47.171875 37.8125 47.578125 \nQ 36.03125 48 33.890625 48 \nQ 26.265625 48 22.1875 43.046875 \nQ 18.109375 38.09375 18.109375 28.8125 \nL 18.109375 0 \nL 9.078125 0 \nL 9.078125 54.6875 \nL 18.109375 54.6875 \nL 18.109375 46.1875 \nQ 20.953125 51.171875 25.484375 53.578125 \nQ 30.03125 56 36.53125 56 \nQ 37.453125 56 38.578125 55.875 \nQ 39.703125 55.765625 41.0625 55.515625 \nz\n\" id=\"DejaVuSans-114\"/>\n     <path d=\"M 34.28125 27.484375 \nQ 23.390625 27.484375 19.1875 25 \nQ 14.984375 22.515625 14.984375 16.5 \nQ 14.984375 11.71875 18.140625 8.90625 \nQ 21.296875 6.109375 26.703125 6.109375 \nQ 34.1875 6.109375 38.703125 11.40625 \nQ 43.21875 16.703125 43.21875 25.484375 \nL 43.21875 27.484375 \nz\nM 52.203125 31.203125 \nL 52.203125 0 \nL 43.21875 0 \nL 43.21875 8.296875 \nQ 40.140625 3.328125 35.546875 0.953125 \nQ 30.953125 -1.421875 24.3125 -1.421875 \nQ 15.921875 -1.421875 10.953125 3.296875 \nQ 6 8.015625 6 15.921875 \nQ 6 25.140625 12.171875 29.828125 \nQ 18.359375 34.515625 30.609375 34.515625 \nL 43.21875 34.515625 \nL 43.21875 35.40625 \nQ 43.21875 41.609375 39.140625 45 \nQ 35.0625 48.390625 27.6875 48.390625 \nQ 23 48.390625 18.546875 47.265625 \nQ 14.109375 46.140625 10.015625 43.890625 \nL 10.015625 52.203125 \nQ 14.9375 54.109375 19.578125 55.046875 \nQ 24.21875 56 28.609375 56 \nQ 40.484375 56 46.34375 49.84375 \nQ 52.203125 43.703125 52.203125 31.203125 \nz\n\" id=\"DejaVuSans-97\"/>\n     <path d=\"M 2.984375 54.6875 \nL 12.5 54.6875 \nL 29.59375 8.796875 \nL 46.6875 54.6875 \nL 56.203125 54.6875 \nL 35.6875 0 \nL 23.484375 0 \nz\n\" id=\"DejaVuSans-118\"/>\n    </defs>\n    <g transform=\"translate(160.19875 16.318125)scale(0.12 -0.12)\">\n     <use xlink:href=\"#DejaVuSans-105\"/>\n     <use x=\"27.783203\" xlink:href=\"#DejaVuSans-110\"/>\n     <use x=\"91.162109\" xlink:href=\"#DejaVuSans-116\"/>\n     <use x=\"130.371094\" xlink:href=\"#DejaVuSans-101\"/>\n     <use x=\"191.894531\" xlink:href=\"#DejaVuSans-114\"/>\n     <use x=\"233.007812\" xlink:href=\"#DejaVuSans-97\"/>\n     <use x=\"294.287109\" xlink:href=\"#DejaVuSans-99\"/>\n     <use x=\"349.267578\" xlink:href=\"#DejaVuSans-116\"/>\n     <use x=\"388.476562\" xlink:href=\"#DejaVuSans-105\"/>\n     <use x=\"416.259766\" xlink:href=\"#DejaVuSans-118\"/>\n     <use x=\"475.439453\" xlink:href=\"#DejaVuSans-101\"/>\n     <use x=\"536.962891\" xlink:href=\"#DejaVuSans-32\"/>\n     <use x=\"568.75\" xlink:href=\"#DejaVuSans-52\"/>\n     <use x=\"632.373047\" xlink:href=\"#DejaVuSans-46\"/>\n     <use x=\"664.160156\" xlink:href=\"#DejaVuSans-49\"/>\n    </g>\n   </g>\n   <g id=\"legend_1\">\n    <g id=\"patch_7\">\n     <path d=\"M 43.465625 74.3525 \nL 119.835938 74.3525 \nQ 121.835938 74.3525 121.835938 72.3525 \nL 121.835938 29.318125 \nQ 121.835938 27.318125 119.835938 27.318125 \nL 43.465625 27.318125 \nQ 41.465625 27.318125 41.465625 29.318125 \nL 41.465625 72.3525 \nQ 41.465625 74.3525 43.465625 74.3525 \nz\n\" style=\"fill:#ffffff;opacity:0.8;stroke:#cccccc;stroke-linejoin:miter;\"/>\n    </g>\n    <g id=\"line2d_17\">\n     <path d=\"M 45.465625 35.416562 \nL 65.465625 35.416562 \n\" style=\"fill:none;stroke:#0000ff;stroke-linecap:square;stroke-width:1.5;\"/>\n    </g>\n    <g id=\"line2d_18\"/>\n    <g id=\"text_16\">\n     <!-- analytic -->\n     <defs>\n      <path d=\"M 9.421875 75.984375 \nL 18.40625 75.984375 \nL 18.40625 0 \nL 9.421875 0 \nz\n\" id=\"DejaVuSans-108\"/>\n      <path d=\"M 32.171875 -5.078125 \nQ 28.375 -14.84375 24.75 -17.8125 \nQ 21.140625 -20.796875 15.09375 -20.796875 \nL 7.90625 -20.796875 \nL 7.90625 -13.28125 \nL 13.1875 -13.28125 \nQ 16.890625 -13.28125 18.9375 -11.515625 \nQ 21 -9.765625 23.484375 -3.21875 \nL 25.09375 0.875 \nL 2.984375 54.6875 \nL 12.5 54.6875 \nL 29.59375 11.921875 \nL 46.6875 54.6875 \nL 56.203125 54.6875 \nz\n\" id=\"DejaVuSans-121\"/>\n     </defs>\n     <g transform=\"translate(73.465625 38.916562)scale(0.1 -0.1)\">\n      <use xlink:href=\"#DejaVuSans-97\"/>\n      <use x=\"61.279297\" xlink:href=\"#DejaVuSans-110\"/>\n      <use x=\"124.658203\" xlink:href=\"#DejaVuSans-97\"/>\n      <use x=\"185.9375\" xlink:href=\"#DejaVuSans-108\"/>\n      <use x=\"213.720703\" xlink:href=\"#DejaVuSans-121\"/>\n      <use x=\"272.900391\" xlink:href=\"#DejaVuSans-116\"/>\n      <use x=\"312.109375\" xlink:href=\"#DejaVuSans-105\"/>\n      <use x=\"339.892578\" xlink:href=\"#DejaVuSans-99\"/>\n     </g>\n    </g>\n    <g id=\"line2d_19\">\n     <path d=\"M 45.465625 50.094687 \nL 65.465625 50.094687 \n\" style=\"fill:none;stroke:#ff0000;stroke-linecap:square;stroke-width:1.5;\"/>\n    </g>\n    <g id=\"line2d_20\"/>\n    <g id=\"text_17\">\n     <!-- euler -->\n     <defs>\n      <path d=\"M 8.5 21.578125 \nL 8.5 54.6875 \nL 17.484375 54.6875 \nL 17.484375 21.921875 \nQ 17.484375 14.15625 20.5 10.265625 \nQ 23.53125 6.390625 29.59375 6.390625 \nQ 36.859375 6.390625 41.078125 11.03125 \nQ 45.3125 15.671875 45.3125 23.6875 \nL 45.3125 54.6875 \nL 54.296875 54.6875 \nL 54.296875 0 \nL 45.3125 0 \nL 45.3125 8.40625 \nQ 42.046875 3.421875 37.71875 1 \nQ 33.40625 -1.421875 27.6875 -1.421875 \nQ 18.265625 -1.421875 13.375 4.4375 \nQ 8.5 10.296875 8.5 21.578125 \nz\nM 31.109375 56 \nz\n\" id=\"DejaVuSans-117\"/>\n     </defs>\n     <g transform=\"translate(73.465625 53.594687)scale(0.1 -0.1)\">\n      <use xlink:href=\"#DejaVuSans-101\"/>\n      <use x=\"61.523438\" xlink:href=\"#DejaVuSans-117\"/>\n      <use x=\"124.902344\" xlink:href=\"#DejaVuSans-108\"/>\n      <use x=\"152.685547\" xlink:href=\"#DejaVuSans-101\"/>\n      <use x=\"214.208984\" xlink:href=\"#DejaVuSans-114\"/>\n     </g>\n    </g>\n    <g id=\"line2d_21\">\n     <path d=\"M 45.465625 64.772812 \nL 65.465625 64.772812 \n\" style=\"fill:none;stroke:#008000;stroke-linecap:square;stroke-width:1.5;\"/>\n    </g>\n    <g id=\"line2d_22\"/>\n    <g id=\"text_18\">\n     <!-- midpoint -->\n     <defs>\n      <path d=\"M 18.109375 8.203125 \nL 18.109375 -20.796875 \nL 9.078125 -20.796875 \nL 9.078125 54.6875 \nL 18.109375 54.6875 \nL 18.109375 46.390625 \nQ 20.953125 51.265625 25.265625 53.625 \nQ 29.59375 56 35.59375 56 \nQ 45.5625 56 51.78125 48.09375 \nQ 58.015625 40.1875 58.015625 27.296875 \nQ 58.015625 14.40625 51.78125 6.484375 \nQ 45.5625 -1.421875 35.59375 -1.421875 \nQ 29.59375 -1.421875 25.265625 0.953125 \nQ 20.953125 3.328125 18.109375 8.203125 \nz\nM 48.6875 27.296875 \nQ 48.6875 37.203125 44.609375 42.84375 \nQ 40.53125 48.484375 33.40625 48.484375 \nQ 26.265625 48.484375 22.1875 42.84375 \nQ 18.109375 37.203125 18.109375 27.296875 \nQ 18.109375 17.390625 22.1875 11.75 \nQ 26.265625 6.109375 33.40625 6.109375 \nQ 40.53125 6.109375 44.609375 11.75 \nQ 48.6875 17.390625 48.6875 27.296875 \nz\n\" id=\"DejaVuSans-112\"/>\n     </defs>\n     <g transform=\"translate(73.465625 68.272812)scale(0.1 -0.1)\">\n      <use xlink:href=\"#DejaVuSans-109\"/>\n      <use x=\"97.412109\" xlink:href=\"#DejaVuSans-105\"/>\n      <use x=\"125.195312\" xlink:href=\"#DejaVuSans-100\"/>\n      <use x=\"188.671875\" xlink:href=\"#DejaVuSans-112\"/>\n      <use x=\"252.148438\" xlink:href=\"#DejaVuSans-111\"/>\n      <use x=\"313.330078\" xlink:href=\"#DejaVuSans-105\"/>\n      <use x=\"341.113281\" xlink:href=\"#DejaVuSans-110\"/>\n      <use x=\"404.492188\" xlink:href=\"#DejaVuSans-116\"/>\n     </g>\n    </g>\n   </g>\n  </g>\n </g>\n <defs>\n  <clipPath id=\"pbd15d047f2\">\n   <rect height=\"217.44\" width=\"334.8\" x=\"36.465625\" y=\"22.318125\"/>\n  </clipPath>\n </defs>\n</svg>\n",
      "text/plain": "<Figure size 432x288 with 1 Axes>"
     },
     "metadata": {
      "needs_background": "light"
     },
     "output_type": "display_data"
    }
   ],
   "source": [
    "import context\n",
    "from numlabs.lab4.lab4_functions import initinter41,eulerinter41,midpointinter41\n",
    "import numpy as np\n",
    "from matplotlib import pyplot as plt\n",
    "\n",
    "initialVals={'yinitial': 1,'t_beg':0.,'t_end':1.,'dt':0.25,'c1':-1.,'c2':1.,'c3':1.}\n",
    "coeff = initinter41(initialVals)\n",
    "timeVec=np.arange(coeff.t_beg,coeff.t_end,coeff.dt)\n",
    "nsteps=len(timeVec)\n",
    "ye=[]\n",
    "ym=[]\n",
    "y=coeff.yinitial\n",
    "ye.append(coeff.yinitial)\n",
    "ym.append(coeff.yinitial)\n",
    "for i in np.arange(1,nsteps):\n",
    "    ynew=eulerinter41(coeff,y,timeVec[i-1])\n",
    "    ye.append(ynew)\n",
    "    ynew=midpointinter41(coeff,y,timeVec[i-1])\n",
    "    ym.append(ynew)\n",
    "    y=ynew\n",
    "analytic=timeVec + np.exp(-timeVec)\n",
    "theFig,theAx=plt.subplots(1,1)\n",
    "l1=theAx.plot(timeVec,analytic,'b-',label='analytic')\n",
    "theAx.set_xlabel('time (seconds)')\n",
    "l2=theAx.plot(timeVec,ye,'r-',label='euler')\n",
    "l3=theAx.plot(timeVec,ym,'g-',label='midpoint')\n",
    "theAx.legend(loc='best')\n",
    "theAx.set_title('interactive 4.1');"
   ]
  },
  {
   "cell_type": "markdown",
   "metadata": {},
   "source": [
    "In general, an *explicit* 2-stage Runge-Kutta method can be\n",
    "written as\n",
    "\n",
    "\n",
    "\n",
    "<div id='eq:explicitrk2'><b> eq:explicitrk1</b> </div>\n",
    "\n",
    "\\begin{align}\n",
    "k_1 =&  h f(y_n,t_n)\\\\\n",
    "k_2 =& h f(y_n+b_{21}k_1, t_n+a_2h) \\\\\n",
    "y_{n+1} =& y_n + c_1k_1 +c_2k_2\n",
    "\\end{align}"
   ]
  },
  {
   "cell_type": "markdown",
   "metadata": {},
   "source": [
    "   \n",
    "   The scheme is said to be\n",
    "<span>*explicit*</span> since a given stage does not depend\n",
    "<span>*implicitly*</span> on itself, as in the backward Euler method ,\n",
    "or on a later stage.\n",
    "\n",
    "Other explicit second-order schemes can be derived by comparing the\n",
    "formula [eq: explicitrk2](#eq:explicitrk2) to the second-order Taylor method and\n",
    "matching terms to determine the coefficients $a_2$, $b_{21}$, $c_1$ and\n",
    "$c_2$.\n",
    "\n",
    "See [Appendix midpoint](#app_midpoint) for the derivation of the midpoint\n",
    "method."
   ]
  },
  {
   "cell_type": "markdown",
   "metadata": {},
   "source": [
    "### The Runge-Kutta Tableau \n",
    "\n",
    "A general s-stage Runge-Kutta method can be written as,\n",
    "\n",
    "$$\n",
    "\\begin{array}{l}\n",
    "    k_i = h f(y_n+ {\\displaystyle \\sum_{j=1}^{s} } b_{ij}k_j, t_n+a_ih), \n",
    "                                                          \\;\\;\\; i=1,..., s\\\\\n",
    "    y_{n+1} = y_n + {\\displaystyle \\sum_{j=1}^{s}} c_jk_j \n",
    "\\end{array}\n",
    "$$\n",
    "\n",
    "\n",
    "<!-- \\label{lab4:eq:rks} -->\n",
    "\n",
    "An *explicit* Runge-Kutta method has $b_{ij}=0$ for\n",
    "$i\\leq j$, i.e. a given stage $k_i$ does not depend on itself or a later\n",
    "stage $k_j$.\n",
    "\n",
    "The coefficients can be expressed in a tabular form known as the\n",
    "Runge-Kutta tableau. \n",
    "\n",
    "$$\n",
    "\\begin{array}{|c|c|cccc|c|} \\hline\n",
    "i & a_i &{b_{ij}} &  &  && c_i \\\\ \\hline\n",
    "1 & a_1 & b_{11} & b_{12} & ... & b_{1s} & c_1\\\\\n",
    "2 & a_2 & b_{21} & b_{22} & ... & b_{2s} & c_2\\\\ \n",
    "\\vdots & \\vdots & \\vdots & \\vdots &  & \\vdots & \\vdots\\\\\n",
    "s &a_s & b_{s1} & b_{s2} & ... & b_{ss} & c_s\\\\\\hline\n",
    "{j=} & & 1 \\  2 & ... & s & \\\\ \\hline\n",
    "\\end{array}\n",
    "$$"
   ]
  },
  {
   "cell_type": "markdown",
   "metadata": {},
   "source": [
    "\n",
    "An explicit scheme will be strictly lower-triangular.\n",
    "\n",
    "For example, a general 2-stage Runge-Kutta method, \n",
    "\n",
    "\n",
    "$$\n",
    "    \\begin{array}{l}\n",
    "    k_1 =  h f(y_n+b_{11}k_1+b_{12}k_2,t_n+a_1h)\\\\\n",
    "    k_2 = h f(y_n+b_{21}k_1+b_{22}k_2, t_n+a_2h)\\\\\n",
    "    y_{n+1} = y_n + c_1k_1 +c_2k_2\n",
    "  \\end{array}\n",
    "$$\n",
    " \n",
    "  \n",
    "  has the coefficients,\n",
    "\n",
    "$$\n",
    "\\begin{array}{|c|c|cc|c|} \\hline\n",
    "i & a_i & {b_{ij}} & & c_i \\\\ \\hline\n",
    "1 & a_1 & b_{11} & b_{12}  & c_1\\\\\n",
    "2 & a_2 & b_{21} & b_{22}  & c_2\\\\ \\hline\n",
    "{j=} & & 1 & 2 & \\\\ \\hline\n",
    "\\end{array}\n",
    "$$\n",
    "\n",
    "<!-- \\label{lab4:eq:rk2} -->\n",
    "\n",
    "In particular, the midpoint method is given by the tableau,\n",
    "\n",
    "$$\n",
    "\\begin{array}{|c|c|cc|c|} \\hline\n",
    "i & a_i & {b_{ij}} &   & c_i \\\\ \\hline\n",
    "1 & 0 & 0 &  0 & 0\\\\\n",
    "2 & \\frac{1}{2} & \\frac{1}{2} & 0 & 1\\\\ \\hline\n",
    "{j=} & & 1 & 2 & \\\\ \\hline\n",
    "\\end{array}\n",
    "$$"
   ]
  },
  {
   "cell_type": "markdown",
   "metadata": {},
   "source": [
    "<div id=\"problem_tableau\"></div>\n",
    "\n",
    "##### Problem tableau \n",
    "\n",
    "Write out the tableau for\n",
    "\n",
    "1.  [Heun’s method](#eq:heuns)\n",
    "\n",
    "2.  the fourth-order Runge-Kutta method ([eq:rk4](#eq:rk4)) discussed in the\n",
    "    next section."
   ]
  },
  {
   "cell_type": "markdown",
   "metadata": {},
   "source": [
    "\n",
    "### Explicit Fourth-Order Runge-Kutta Method \n",
    "\n",
    "<!-- {#lab4:sec:rk4} -->\n",
    "\n",
    "\n",
    "Explicit Runge-Kutta methods are popular as each stage can be calculated\n",
    "with one function evaluation. In contrast, implicit Runge-Kutta methods\n",
    "usually involves solving a non-linear system of equations in order to\n",
    "evaluate the stages. As a result, explicit schemes are much less\n",
    "expensive to implement than implicit schemes.\n",
    "\n",
    "However, there are cases in which implicit schemes are necessary and\n",
    "that is in the case of *stiff* sets of equations. See\n",
    "section 16.6 of Press et al. for a discussion. For these labs, we will\n",
    "focus on non-stiff equations and on explicit Runge-Kutta methods.\n",
    "\n",
    "The higher-order Runge-Kutta methods can be derived by in manner similar\n",
    "to the midpoint formula. An s-stage method is compared to a Taylor\n",
    "method and the terms are matched up to the desired order.\n",
    "\n",
    "Methods of order $M > 4$ require $M+1$ or $M+2$ function evaluations or\n",
    "stages, in the case of explicit Runge-Kutta methods. As a result,\n",
    "fourth-order Runge-Kutta methods have achieved great popularity over the\n",
    "years as they require only four function evaluations per step. In\n",
    "particular, there is the classic fourth-order Runge-Kutta formula:\n",
    "\n",
    "$$\n",
    "  \\begin{array}{l}\n",
    "    k_1 =  h f(y_n,t_n)\\\\\n",
    "    k_2 = h f(y_n+\\frac{k_1}{2}, t_n+\\frac{h}{2})\\\\\n",
    "    k_3 = h f(y_n+\\frac{k_2}{2}, t_n+\\frac{h}{2})\\\\\n",
    "    k_4 = h f(y_n+k_3, t_n+h)\\\\\n",
    "    y_{n+1} = y_n + \\frac{k_1}{6}+ \\frac{k_2}{3}+ \\frac{k_3}{3} + \\frac{k_4}{6}\n",
    "  \\end{array}\n",
    "$$\n",
    "\n",
    "\n",
    "\n",
    "<div id=\"problemrk4\"><b>Problem RK4</b>\n",
    "    \n",
    "In the cell below, compare compare solutions to the test\n",
    "problem\n",
    "\n",
    "<div id=\"eq:test\"><b>eq:test</b><div>\n",
    "$$\n",
    "\\frac{dy}{dt} = -y +t +1,  \\;\\;\\;\\; y(0) =1\n",
    "$$ \n",
    "\n",
    "generated with the\n",
    "fourth-order Runge-Kutta method to solutions generated by the forward\n",
    "Euler and midpoint methods.\n",
    "\n",
    "1.  Based on the numerical solutions of ([eq:test](#eq:test)), which of the\n",
    "    three methods appears more accurate?\n",
    "\n",
    "2.  Again determine how the error changes relative to the change in\n",
    "    stepsize, as the stepsize is halved."
   ]
  },
  {
   "cell_type": "code",
   "execution_count": 11,
   "metadata": {},
   "outputs": [
    {
     "data": {
      "image/png": "[encoded data removed]",
      "text/plain": [
       "<Figure size 432x288 with 1 Axes>"
      ]
     },
     "metadata": {
      "needs_background": "light"
     },
     "output_type": "display_data"
    }
   ],
   "source": [
    "from numlabs.lab4.lab4_functions import initinter41,eulerinter41,midpointinter41,\\\n",
    "                                        rk4ODEinter41\n",
    "initialVals={'yinitial': 1,'t_beg':0.,'t_end':1.,'dt':0.05,'c1':-1.,'c2':1.,'c3':1.}\n",
    "coeff = initinter41(initialVals)\n",
    "timeVec=np.arange(coeff.t_beg,coeff.t_end,coeff.dt)\n",
    "nsteps=len(timeVec)\n",
    "ye=[]\n",
    "ym=[]\n",
    "yrk=[]\n",
    "y=coeff.yinitial\n",
    "ye.append(coeff.yinitial)\n",
    "ym.append(coeff.yinitial)\n",
    "yrk.append(coeff.yinitial)\n",
    "for i in np.arange(1,nsteps):\n",
    "    ynew=eulerinter41(coeff,y,timeVec[i-1])\n",
    "    ye.append(ynew)\n",
    "    ynew=midpointinter41(coeff,y,timeVec[i-1])\n",
    "    ym.append(ynew)\n",
    "    ynew=rk4ODEinter41(coeff,y,timeVec[i-1])\n",
    "    yrk.append(ynew)\n",
    "    y=ynew\n",
    "analytic=timeVec + np.exp(-timeVec)\n",
    "theFig=plt.figure(0)\n",
    "theFig.clf()\n",
    "theAx=theFig.add_subplot(111)\n",
    "l1=theAx.plot(timeVec,analytic,'b-',label='analytic')\n",
    "theAx.set_xlabel('time (seconds)')\n",
    "l2=theAx.plot(timeVec,ye,'r-',label='euler')\n",
    "l3=theAx.plot(timeVec,ym,'g-',label='midpoint')\n",
    "l4=theAx.plot(timeVec,yrk,'m-',label='rk4')\n",
    "theAx.legend(loc='best')\n",
    "theAx.set_title('interactive 4.2');"
   ]
  },
  {
   "cell_type": "markdown",
   "metadata": {},
   "source": [
    "### Embedded Runge-Kutta Methods: Estimate of the Truncation Error \n",
    "\n",
    "<!-- {#lab4:sec:embeddedrk} -->\n",
    "\n",
    "It is possible to find two methods of different order which share the\n",
    "same stages $k_i$ and differ only in the way they are combined, i.e. the\n",
    "coefficients $c_i$. For example, the original so-called embedded\n",
    "Runge-Kutta scheme was discovered by Fehlberg and consisted of a\n",
    "fourth-order scheme and fifth-order scheme which shared the same six\n",
    "stages.\n",
    "\n",
    "In general, a fourth-order scheme embedded in a fifth-order scheme will\n",
    "share the stages \n",
    "\n",
    "$$\n",
    "  \\begin{array}{l}\n",
    "    k_1 =  h f(y_n,t_n)\\\\\n",
    "    k_2 = h f(y_n+b_{21}k_1, t_n+a_2h)\\\\\n",
    "    \\vdots \\\\\n",
    "    k_6 = h f(y_n+b_{51}k_1+ ...+b_{56}k_6, t_n+a_6h)\n",
    "  \\end{array}\n",
    "$$\n",
    "\n",
    " <!-- \\label{lab4:eq:stages} -->\n",
    "\n",
    "<!-- \\label{lab4:eq:fifth} -->\n",
    "\n",
    "\n",
    "The fifth-order formula takes the step: \n",
    "\n",
    "$$\n",
    "  y_{n+1}=y_n+c_1k_1+c_2k_2+c_3k_3+c_4k_4+c_5k_5+c_6k_6\n",
    "$$ \n",
    "\n",
    "while the\n",
    "embedded fourth-order formula takes a different step:\n",
    "\n",
    "<!-- \\label{lab4:eq:fourth} -->\n",
    "\n",
    "$$\n",
    " y_{n+1}^*=y_n+c^*_1k_1+c^*_2k_2+c^*_3k_3+c^*_4k_4+c^*_5k_5+c^*_6k_6\n",
    "$$\n",
    "\n",
    "If we now take the difference between the two numerical estimates, we\n",
    "get an estimate $\\Delta_{\\rm spec}$ of the truncation error for the\n",
    "fourth-order method, \n",
    "\n",
    "<!-- \\label{lab4:eq:errorest} -->\n",
    "$$\n",
    " \\Delta_{\\rm est}(i)=y_{n+1}(i) - y_{n+1}^{*}(i) \n",
    "= \\sum^{6}_{i=1}(c_i-c_{i}^{*})k_i\n",
    "$$ \n",
    "\n",
    "This will prove to be very useful\n",
    "in the next lab where we provide the Runge-Kutta algorithms with\n",
    "adaptive stepsize control. The error estimate is used as a guide to an\n",
    "appropriate choice of stepsize.\n",
    "\n",
    "An example of an embedded Runge-Kutta scheme was found by Cash and Karp\n",
    "and has the tableau: "
   ]
  },
  {
   "cell_type": "markdown",
   "metadata": {},
   "source": [
    "$$\n",
    "\\begin{array}{|c|c|cccccc|c|c|} \\hline\n",
    "i & a_i & {b_{ij}} & & & & &  & c_i & c^*_i \\\\ \\hline\n",
    "1 &  &  &  &  & &  &  & \\frac{37}{378} & \\frac{2825}{27648}\\\\\n",
    "2 & \\frac{1}{5} & \\frac{1}{5}&  &  & &  & & 0 &0 \\\\\n",
    "3 & \\frac{3}{10} & \\frac{3}{40}&\\frac{9}{40}&  & & &  &\\frac{250}{621}&\\frac{18575}{48384}\\\\\n",
    "4 &  \\frac{3}{5}&\\frac{3}{10}& -\\frac{9}{10}&\\frac{6}{5}& & &  &\\frac{125}{594}& \\frac{13525}{55296}\\\\\n",
    "5 & 1 & -\\frac{11}{54}&\\frac{5}{2}&-\\frac{70}{27}&\\frac{35}{27}&  &  & 0 & \\frac{277}{14336}\\\\\n",
    "6 &  \\frac{7}{8}&  \\frac{1631}{55296}&  \\frac{175}{512}&\\frac{575}{13824}& \\frac{44275}{110592}& \\frac{253}{4096}&  & \\frac{512}{1771} & \\frac{1}{4}\\\\\\hline\n",
    "{j=} & & 1 & 2 & 3 & 4 & 5 & 6 & & \\\\ \\hline\n",
    "\\end{array}\n",
    "$$"
   ]
  },
  {
   "cell_type": "markdown",
   "metadata": {},
   "source": [
    "<a name=\"problem_embedded\"></a>\n",
    "\n",
    "##### Problem embedded\n",
    "\n",
    "Though the error estimate is for the embedded\n",
    "fourth-order Runge-Kutta method, the fifth-order method can be used in\n",
    "practice for calculating the solution, the assumption being the\n",
    "fifth-order method should be at least as accurate as the fourth-order\n",
    "method. In the demo below, compare solutions of the test problem\n",
    "[eq:test2](#eq:test2]) \n",
    "\n",
    "<div id=\"eq:test2\"><b>eq:test2</b></div>\n",
    "$$\\frac{dy}{dt} = -y +t +1,  \\;\\;\\;\\; y(0) =1$$\n",
    "\n",
    "generated by the fifth-order method with solutions generated by the\n",
    "standard fourth-order Runge-Kutta method. Which method\n",
    "is more accurate? Again, determine how the error decreases as you halve\n",
    "the stepsizes. "
   ]
  },
  {
   "cell_type": "code",
   "execution_count": 3,
   "metadata": {},
   "outputs": [
    {
     "data": {
      "image/png": "[encoded data removed]",
      "text/plain": [
       "<Figure size 432x288 with 1 Axes>"
      ]
     },
     "metadata": {
      "needs_background": "light"
     },
     "output_type": "display_data"
    }
   ],
   "source": [
    "import numpy as np\n",
    "from matplotlib import pyplot as plt\n",
    "\n",
    "from numlabs.lab4.lab4_functions import initinter41,rk4ODEinter41,rkckODEinter41\n",
    "initialVals={'yinitial': 1,'t_beg':0.,'t_end':1.,'dt':0.2,'c1':-1.,'c2':1.,'c3':1.}\n",
    "coeff = initinter41(initialVals)\n",
    "\n",
    "timeVec=np.arange(coeff.t_beg,coeff.t_end,coeff.dt)\n",
    "nsteps=len(timeVec)\n",
    "ye=[]\n",
    "ym=[]\n",
    "yrk=[]\n",
    "yrkck=[]\n",
    "y1=coeff.yinitial\n",
    "y2=coeff.yinitial\n",
    "yrk.append(coeff.yinitial)\n",
    "yrkck.append(coeff.yinitial)\n",
    "for i in np.arange(1,nsteps):\n",
    "    ynew=rk4ODEinter41(coeff,y1,timeVec[i-1])\n",
    "    yrk.append(ynew)\n",
    "    y1=ynew \n",
    "    ynew=rkckODEinter41(coeff,y2,timeVec[i-1])\n",
    "    yrkck.append(ynew)\n",
    "    y2=ynew \n",
    "analytic=timeVec + np.exp(-timeVec)\n",
    "theFig,theAx=plt.subplots(1,1)\n",
    "l1=theAx.plot(timeVec,analytic,'b-',label='analytic')\n",
    "theAx.set_xlabel('time (seconds)')\n",
    "l2=theAx.plot(timeVec,yrkck,'g-',label='rkck')\n",
    "l3=theAx.plot(timeVec,yrk,'m-',label='rk')\n",
    "theAx.legend(loc='best')\n",
    "theAx.set_title('interactive 4.3');"
   ]
  },
  {
   "cell_type": "markdown",
   "metadata": {},
   "source": [
    "## Python: moving from a notebook to a library\n",
    "\n",
    "### Managing problem configurations\n",
    "\n",
    "So far we've hardcoded our initialVars file into a cell.  We need a strategy for saving\n",
    "this information into a file that we can keep track of using git, and modify for\n",
    "various runs.  In python the fundamental data type is the dictionary.  It's very\n",
    "flexible, but that comes at a cost -- there are other data structures that are better\n",
    "suited to storing this type of information.\n",
    "\n",
    "#### Mutable vs. immutable data types\n",
    "\n",
    "Python dictionaries and lists are **mutable**, which means they can be modified after they\n",
    "are created.  Python tuples, on the other hand, are **immutable** -- there is no way of changing\n",
    "them without creating a copy.  Why does this matter?  One reason is efficiency and safety, an\n",
    "immutable object is easier to reason about.  Another reason is that immutable objects are **hashable**,\n",
    "that is, they can be turned into a unique string that can be guaranteed to represent that exact\n",
    "instance of the datatype.  Hashable data structures can be used as dictionary keys, mutable\n",
    "data structures can't.  Here's an illustration -- this cell works:"
   ]
  },
  {
   "cell_type": "code",
   "execution_count": 4,
   "metadata": {},
   "outputs": [
    {
     "name": "stdout",
     "output_type": "stream",
     "text": [
      "{(0, 1, 2, 3): 5}\n"
     ]
    }
   ],
   "source": [
    "test_dict=dict()\n",
    "the_key = (0,1,2,3)\n",
    "test_dict[the_key]=5\n",
    "print(test_dict)"
   ]
  },
  {
   "cell_type": "markdown",
   "metadata": {},
   "source": [
    "this cell fails:"
   ]
  },
  {
   "cell_type": "code",
   "execution_count": 5,
   "metadata": {},
   "outputs": [
    {
     "name": "stderr",
     "output_type": "stream",
     "text": [
      "Traceback (most recent call last):\n",
      "  File \"<ipython-input-5-5d4d6e884142>\", line 5, in <module>\n",
      "    test_dict[the_key]=5\n",
      "TypeError: unhashable type: 'list'\n"
     ]
    }
   ],
   "source": [
    "import traceback, sys\n",
    "test_dict=dict()\n",
    "the_key = [0,1,2,3]\n",
    "try:\n",
    "    test_dict[the_key]=5\n",
    "except TypeError as e:\n",
    "    tb = sys.exc_info()\n",
    "    traceback.print_exception(*tb)"
   ]
  },
  {
   "cell_type": "markdown",
   "metadata": {},
   "source": [
    "#### Named tuples\n",
    "\n",
    "One particular tuple flavor that bridges the gap between tuples and dictionaries\n",
    "is the [namedtuple](https://docs.python.org/3/library/collections.html#collections.namedtuple).\n",
    "It has the ability to look up values by attribute instead of numerical index (unlike\n",
    "a tuple), but it's immutable and so can be used as a dictionary key.  The cell\n",
    "below show how to convert from a dictionary to a namedtuple for our case:"
   ]
  },
  {
   "cell_type": "code",
   "execution_count": 6,
   "metadata": {},
   "outputs": [
    {
     "name": "stdout",
     "output_type": "stream",
     "text": [
      "values are -1.0 and 1\n"
     ]
    }
   ],
   "source": [
    "from collections import namedtuple\n",
    "initialDict={'yinitial': 1,'t_beg':0.,'t_end':1.,\n",
    "                    'dt':0.2,'c1':-1.,'c2':1.,'c3':1.}     \n",
    "inittup=namedtuple('inittup','dt c1 c2 c3 t_beg t_end yinitial')\n",
    "initialCond=inittup(**initialDict)\n",
    "print(f\"values are {initialCond.c1} and {initialCond.yinitial}\")"
   ]
  },
  {
   "cell_type": "markdown",
   "metadata": {},
   "source": [
    "Comment on the cell above:\n",
    "\n",
    "1) `inittup=namedtuple('inittup','dt c1 c2 c3 t_beg t_end yinitial')`\n",
    "   creats a new data type with a type name (inittup) and properties\n",
    "   (the attributes we wlll need like dt, c1 etc.)\n",
    "   \n",
    "2) `initialCond=inittup(**initialDict)`\n",
    "   uses \"keyword expansion\" via the \"doublesplat\" operator `**` to expand\n",
    "   the initialDict into a set of key=value pairs for the inittup constructor\n",
    "   which makes an instance of our new datatype called initialCond\n",
    "   \n",
    "3) we access these readonly members of the instance using attributes like this:\n",
    "   `newc1 = initialCond.c1`\n",
    "\n",
    "   \n",
    "Note the other big benefit for namedtuples -- \"initialCond.c1\" is self-documenting,\n",
    "you don't have to explain that the tuple value initialCond[3]  holds c1,\n",
    "and you never have to worry about changes to  the order of the tuple changing the \n",
    "results of your code."
   ]
  },
  {
   "cell_type": "markdown",
   "metadata": {
    "lines_to_next_cell": 0
   },
   "source": [
    "### Saving named tuples to a file\n",
    "\n",
    "One drawback to namedtuples is that there's no one annointed way to **serialize** them\n",
    "i.e. we are in charge of trying to figure out how to write our namedtuple out\n",
    "to a file for future use.  Contrast this with lists, strings, and scalar numbers and\n",
    "dictionaries, which all have a builtin **json** representation in text form.\n",
    "\n",
    "So here's how to turn our named tuple back into a dictionary:\n"
   ]
  },
  {
   "cell_type": "code",
   "execution_count": 7,
   "metadata": {},
   "outputs": [
    {
     "name": "stdout",
     "output_type": "stream",
     "text": [
      "OrderedDict([('dt', 0.2), ('c1', -1.0), ('c2', 1.0), ('c3', 1.0), ('t_beg', 0.0), ('t_end', 1.0), ('yinitial', 1)])\n"
     ]
    }
   ],
   "source": [
    "#\n",
    "# make the named tuple a dictionary\n",
    "#\n",
    "initialDict = initialCond._asdict()\n",
    "print(initialDict)"
   ]
  },
  {
   "cell_type": "markdown",
   "metadata": {},
   "source": [
    "Why does `_asdict` start with an underscore?  It's to keep the fundamental\n",
    "methods and attributes of the namedtuple class separate from the attributes\n",
    "we added when we created the new `inittup` class. For more information, see\n",
    "the [collections docs](https://docs.python.org/3.7/library/collections.html#module-collections)"
   ]
  },
  {
   "cell_type": "code",
   "execution_count": 8,
   "metadata": {},
   "outputs": [],
   "source": [
    "outputDict = dict(initialconds = initialDict)\n",
    "import json\n",
    "outputDict['history'] = 'written Jan. 28, 2020'\n",
    "outputDict['plot_title'] = 'simple damped oscillator run 1'\n",
    "with open('run1.json', 'w') as jsonout:\n",
    "    json.dump(outputDict,jsonout,indent=4)"
   ]
  },
  {
   "cell_type": "markdown",
   "metadata": {},
   "source": [
    "After running this cell, you should see the following [json output](https://en.wikipedia.org/wiki/JSON) in the file `run1.json`:\n",
    "\n",
    "```\n",
    "{\n",
    "    \"initialconds\": {\n",
    "        \"dt\": 0.2,\n",
    "        \"c1\": -1.0,\n",
    "        \"c2\": 1.0,\n",
    "        \"c3\": 1.0,\n",
    "        \"t_beg\": 0.0,\n",
    "        \"t_end\": 1.0,\n",
    "        \"yinitial\": 1\n",
    "    },\n",
    "    \"history\": \"written Jan. 28, 2020\",\n",
    "    \"plot_title\": \"simple damped oscillator run 1\"\n",
    "}\n",
    "```"
   ]
  },
  {
   "cell_type": "markdown",
   "metadata": {},
   "source": [
    "### Reading a json file back into python\n",
    "\n",
    "To recover your conditions read the file back in as a dictionary:\n"
   ]
  },
  {
   "cell_type": "code",
   "execution_count": 9,
   "metadata": {},
   "outputs": [
    {
     "name": "stdout",
     "output_type": "stream",
     "text": [
      "values are -1.0 and 1\n"
     ]
    }
   ],
   "source": [
    "with open(\"run1.json\",'r') as jsonin:\n",
    "    inputDict = json.load(jsonin)\n",
    "initial_conds = inittup(**inputDict['initialconds'])\n",
    "print(f\"values are {initial_conds.c1} and {initial_conds.yinitial}\")"
   ]
  },
  {
   "cell_type": "markdown",
   "metadata": {},
   "source": [
    "### Passing a derivative function to an integrator\n",
    "\n",
    "In python, functions are first class objects, which means you can pass them around like any\n",
    "other datatype, no need to get function handles as in matlab or Fortran.  The integrators\n",
    "in [test.py](https://github.com/phaustin/numeric/blob/master/numlabs/lab4/example/test.py)\n",
    "have been written to accept a derivative function of the form:\n",
    "\n",
    "```python\n",
    "    def derivs4(coeff, y):\n",
    "```\n",
    "\n",
    "i.e. as long as the derivative can be written in terms of coefficients\n",
    "and the previous value of y, the integrator will move the ode ahead one\n",
    "timestep.  If we wanted coefficients that were a function of time, we would\n",
    "need to also include those functions the coeff namedtuple, and add keep track of the\n",
    "timestep through the integration.\n",
    "\n",
    "Here's an example using foward euler to integrate the harmonic oscillator\n",
    "\n",
    "Note that you can also run this from the terminal by doing:\n",
    "\n",
    "```\n",
    "cd numlabs/lab4/example\n",
    "python do_example.py\n",
    "```"
   ]
  },
  {
   "cell_type": "code",
   "execution_count": 10,
   "metadata": {},
   "outputs": [
    {
     "data": {
      "image/png": "[encoded data removed]",
      "text/plain": [
       "<Figure size 576x576 with 1 Axes>"
      ]
     },
     "metadata": {
      "needs_background": "light"
     },
     "output_type": "display_data"
    }
   ],
   "source": [
    "import json\n",
    "from numlabs.lab4.example.do_example import get_init,euler4\n",
    "#\n",
    "# specify the derivs function\n",
    "#\n",
    "def derivs(coeff, y):\n",
    "  f=np.empty_like(y) #create a 2 element vector to hold the derivitive\n",
    "  f[0]=y[1]\n",
    "  f[1]= -1.*coeff.c1*y[1] - coeff.c2*y[0]\n",
    "  return f\n",
    "#\n",
    "# first make sure we have an input file in this directory\n",
    "#\n",
    "\n",
    "coeff=get_init()\n",
    "\n",
    "#\n",
    "# integrate and save the result in savedata\n",
    "#\n",
    "time=np.arange(coeff.t_beg,coeff.t_end,coeff.dt)\n",
    "y=coeff.yinitial\n",
    "nsteps=len(time) \n",
    "savedata=np.empty([nsteps],np.float64)\n",
    "for i in range(nsteps):\n",
    "    y=euler4(coeff,y,derivs)\n",
    "    savedata[i]=y[0]\n",
    "\n",
    "theFig,theAx=plt.subplots(1,1,figsize=(8,8))\n",
    "theAx.plot(time,savedata,'o-')\n",
    "theAx.set_title(coeff.plot_title)\n",
    "theAx.set_xlabel('time (seconds)')\n",
    "theAx.set_ylabel('y0');\n",
    "\n"
   ]
  },
  {
   "cell_type": "markdown",
   "metadata": {},
   "source": [
    "<div id=\"prob_a\"></div>\n",
    "\n",
    "##### problem coding A\n",
    "\n",
    "\n",
    "\n",
    "As set up above, do_example.py\n",
    "solves the damped, harmonic oscillator with the (unstable) forward Euler method.\n",
    "\n",
    "1.  Write a new routine that solves the harmonic oscilator using [Heun’s method](#eq:heuns)\n",
    "    along the lines of the routines in [lab4_functions.py](https://github.com/phaustin/numeric/blob/master/numlabs/lab4/lab4_functions.py)\n",
    "\n",
    "    Hand in a fresh notebook with the code and a plot.\n",
    "\n",
    "\n",
    "##### problem coding B\n",
    "\n",
    "1.  Now solve the following test equation by both the midpoint and\n",
    "    Heun’s method and compare. \n",
    "    \n",
    "    $$f(y,t) = t - y  + 1.0$$ \n",
    "    \n",
    "    Choose two sets\n",
    "    of initial conditions and determine if \n",
    "    there is any difference between the two methods when applied to\n",
    "    either problem. Should there be? Explain by analyzing the steps\n",
    "    that each method is taking.\n",
    "    \n",
    "2. Add your answer as new cells to the problem A notebook\n",
    "\n",
    "\n",
    "##### problem coding C\n",
    "\n",
    "1.  Solve the Newtonian cooling equation of lab 1 by any of the above\n",
    "    methods. \n",
    "\n",
    "2.  Add cells that do this and also generate some plots, showing your along with the parameter values and\n",
    "    initial conditions."
   ]
  },
  {
   "cell_type": "markdown",
   "metadata": {},
   "source": [
    "##  Mathematical Notes \n",
    "\n",
    "<!-- {#lab4:ap:mathnote} -->\n",
    "\n",
    "\n",
    "<!--  {#lab4:ap:midpointderiv} -->\n",
    "\n",
    "### Note on the Derivation of the Second-Order Runge-Kutta Methods\n",
    "\n",
    "A general s-stage Runge-Kutta method can be written as,\n",
    "\n",
    "\n",
    "$$\n",
    "  \\begin{array}{l}\n",
    "    k_i = h f(y_n+ {\\displaystyle \\sum_{j=1}^{s} } b_{ij}k_j, t_n+a_ih), \n",
    "                                                          \\;\\;\\; i=1,..., s\\\\\n",
    "    y_{n+1} = y_n + {\\displaystyle \\sum_{j=1}^{s}} c_jk_j \n",
    "\\end{array}\n",
    "$$ \n",
    "  \n",
    "  where\n",
    "\n",
    "${\\displaystyle \\sum_{j=1}^{s} } b_{ij} = a_i$."
   ]
  },
  {
   "cell_type": "markdown",
   "metadata": {
    "lines_to_next_cell": 0
   },
   "source": [
    "In particular, an *explicit* 2-stage Runge-Kutta method can\n",
    "be written as, \n",
    "\n",
    "\n",
    "$$\n",
    "  \\begin{array}{l}\n",
    "    k_1 =  h f(y_n,t_n)\\\\\n",
    "    k_2 = h f(y_n+ak_1, t_n+ah)\\\\\n",
    "    y_{n+1} = y_n + c_1k_1 +c_2k_2\n",
    "  \\end{array}\n",
    "$$\n",
    "\n",
    "where \n",
    " \n",
    "$b_{21} = a_2 \\equiv a$. \n",
    "  \n",
    "  So we want\n",
    "to know what values of $a$, $c_1$ and $c_2$ leads to a second-order\n",
    "method, i.e. a method with an error proportional to $h^3$.\n",
    "\n",
    "To find out, we compare the method against a second-order Taylor expansion,\n",
    "\n",
    "<!-- \\label{lab4:eq:taylor} -->\n",
    "\n",
    "$$\n",
    "  y(t_n+h) = y(t_n) + hy^\\prime(t_n) + \\frac{h^2}{2}y^{\\prime \\prime}(t_n)\n",
    "             + O(h^3)\n",
    "$$\n",
    "\n",
    "So for the $y_{n+1}$ to be second-order accurate, it must match the\n",
    "Taylor method. In other words, $c_1k_1 +c_2k_2$ must\n",
    "match $hy^\\prime(t_n) + \\frac{h^2}{2}y^{\\prime \\prime}$. To do this, we\n",
    "need to express $k_1$ and $k_2$ in terms of derivatives of $y$ at time\n",
    "$t_n$.\n",
    "\n",
    "First note, $k_1 = hf(y_n, t_n) = hy^\\prime(t_n)$.\n",
    "\n",
    "Next, we can expand $k_2$ about $(y_n.t_n)$, \n",
    "\n",
    "<!-- \\label{lab4:eq:k1} -->\n",
    "\n",
    "$$\n",
    "k_2 = hf(y_n+ak_1, t_n+ah) = h(f + haf_t + haf_yy^\\prime + O(h^2))\n",
    "$$\n",
    "\n",
    "<!-- \\label{lab4:eq:secder} -->\n",
    "\n",
    "However, we can write $y^{\\prime \\prime}$ as, \n",
    "\n",
    "$$\n",
    "  y^{\\prime \\prime} = \\frac{df}{dt} = f_t + f_yy^\\prime\n",
    "$$ \n",
    "This allows us\n",
    "to rewrite $k_2$ in terms of $y^{\\prime \\prime}$,\n",
    "\n",
    "$$k_2 = h(y^\\prime +  hay^{\\prime \\prime}+ O(h^2))$$\n",
    "\n",
    "Substituting these expressions for $k_i$ back into the Runge-Kutta\n",
    "formula gives us,\n",
    "$$y_{n+1} = y_n + c_1hy^\\prime +c_2h(y^\\prime +  hay^{\\prime \\prime})$$\n",
    "or \n",
    "$$y_{n+1} = y_n + h(c_1 +c_2)y^\\prime +  h^2(c_2a)y^{\\prime \\prime}$$\n",
    "\n",
    "If we compare this against the second-order Taylor method,\n",
    "we see that we need, \n",
    "\n",
    "\n",
    "$$\n",
    "   \\begin{array}{l}\n",
    "  c_1 + c_2 = 1\\\\\n",
    "  a c_2 = \\frac{1}{2}\n",
    "   \\end{array}\n",
    "$$\n",
    "   \n",
    "for the Runge-Kutta method to be\n",
    "second-order.\n",
    "\n",
    "<div id=\"app_midpoint\"></div>\n",
    "If we choose $a = 1/2$, this implies $c_2 = 1$ and $c_1=0$. This gives\n",
    "us the midpoint method.\n",
    "\n",
    "However, note that other choices are possible. In fact, we have a\n",
    "*one-parameter family* of second-order methods. For example\n",
    "if we choose, $a=1$ and $c_1=c_2=\\frac{1}{2}$, we get the\n",
    "*modified Euler method*,\n",
    "\n",
    "<!-- \\label{lab4:eq:modifiedeuler} -->\n",
    "\n",
    "\n",
    "$$\n",
    "    \\begin{array}{l}\n",
    "    k_1 =  h f(y_n,t_n)\\\\\n",
    "    k_2 = h f(y_n+k_1, t_n+h)\\\\\n",
    "    y_{n+1} = y_n + \\frac{1}{2}(k_1 +k_2)\n",
    "  \\end{array}\n",
    "$$\n",
    "    \n",
    "while the choice\n",
    "$a=\\frac{2}{3}$, $c_1=\\frac{1}{4}$ and $c_2=\\frac{3}{4}$, gives us\n",
    "\n"
   ]
  },
  {
   "cell_type": "markdown",
   "metadata": {},
   "source": [
    "\n",
    "<div id=\"eq:heuns\"><b>Heun's Method</b></div>\n",
    "\n",
    "$$\n",
    "  \\begin{array}{l}\n",
    "    k_1 =  h f(y_n,t_n)\\\\\n",
    "    k_2 = h f(y_n+\\frac{2}{3}k_1, t_n+\\frac{2}{3}h)\\\\\n",
    "    y_{n+1} = y_n + \\frac{1}{4}k_1 + \\frac{3}{4}k_2\n",
    "  \\end{array}\n",
    "$$"
   ]
  },
  {
   "cell_type": "markdown",
   "metadata": {
    "lines_to_next_cell": 3
   },
   "source": [
    "## Glossary \n",
    "\n",
    "\n",
    "- **driver**  A routine that calls the other routines to solve the\n",
    "  problem.\n",
    "\n",
    "- **embedded Runge-Kutta methods**:  Two Runge-Kutta\n",
    "  methods that share the same stages. The difference between the solutions\n",
    "  give an estimate of the local truncation error.\n",
    "\n",
    "- **explicit**  In an explicit numerical scheme, the calculation of the solution at a given\n",
    "  step or stage does not depend on the value of the solution at that step\n",
    "  or on a later step or stage.\n",
    "              \n",
    "- **fourth-order Runge-Kutta method**  A popular fourth-order, four-stage, explicit Runge-Kutta\n",
    "  method.\n",
    "\n",
    "- **implicit**: In an implicit numerical scheme, the\n",
    "  calculation of the solution at a given step or stage does depend on the\n",
    "  value of the solution at that step or on a later step or stage. Such\n",
    "  methods are usually more expensive than implicit schemes but are better\n",
    "  for handling stiff ODEs.\n",
    "\n",
    "- **midpoint method** :  A two-stage,\n",
    "  second-order Runge-Kutta method.\n",
    "\n",
    "- **stages**:  The approximations\n",
    "  to the derivative made in a Runge-Kutta method between the start and end\n",
    "  of a step.\n",
    "\n",
    "- **tableau**  The tableau for a Runge-Kutta method\n",
    "  organizes the coefficients for the method in tabular form.\n",
    "\n"
   ]
  }
 ],
 "metadata": {
  "jupytext": {
   "cell_metadata_filter": "all",
   "encoding": "# -*- coding: utf-8 -*-",
   "formats": "ipynb,py:percent",
   "notebook_metadata_filter": "all,-language_info,-toc,-latex_envs"
  },
  "kernelspec": {
   "display_name": "Python 3",
   "language": "python",
   "name": "python3"
  },
  "language_info": {
   "codemirror_mode": {
    "name": "ipython",
    "version": 3
   },
   "file_extension": ".py",
   "mimetype": "text/x-python",
   "name": "python",
   "nbconvert_exporter": "python",
   "pygments_lexer": "ipython3",
   "version": "3.7.4-final"
  },
  "latex_envs": {
   "LaTeX_envs_menu_present": true,
   "autoclose": false,
   "autocomplete": true,
   "bibliofile": "biblio.bib",
   "cite_by": "apalike",
   "current_citInitial": 1,
   "eqLabelWithNumbers": true,
   "eqNumInitial": 1,
   "hotkeys": {
    "equation": "meta-9"
   },
   "labels_anchors": false,
   "latex_user_defs": false,
   "report_style_numbering": false,
   "user_envs_cfg": false
  },
  "toc": {
   "base_numbering": 1,
   "nav_menu": {},
   "number_sections": true,
   "sideBar": true,
   "skip_h1_title": true,
   "title_cell": "Table of Contents",
   "title_sidebar": "Contents",
   "toc_cell": false,
   "toc_position": {
    "height": "calc(100% - 180px)",
    "left": "10px",
    "top": "150px",
    "width": "165px"
   },
   "toc_section_display": "block",
   "toc_window_display": true
  }
 },
 "nbformat": 4,
 "nbformat_minor": 2
}