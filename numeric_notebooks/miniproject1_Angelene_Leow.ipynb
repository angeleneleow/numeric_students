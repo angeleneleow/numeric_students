{
 "cells": [
  {
   "cell_type": "markdown",
   "metadata": {},
   "source": [
    "# Miniproject 1 , ATSC 409\n",
    "\n",
    ">Angelene Leow, 23162167\n",
    "\n",
    "### 1(a)(b)(c)(d)\n",
    "Equation for light intensity: \n",
    "\n",
    "$$ I = I_0(1-\\beta)(1-\\epsilon)e^{-\\frac{d}{\\alpha}} \\\\ $$\n",
    "\n",
    "where $I={\\text{light energy}}\\\\ I_o = {\\text{incoming radiative flux}} \\\\ \\beta={\\text{ice fraction}} \\\\ \\epsilon={\\text{albedo}} \\\\ \\alpha={\\text{e-folding length}}$ \n",
    "\n",
    "$$\\dfrac{\\partial I}{\\partial d}= - \\dfrac{100(1-\\beta)(1-\\epsilon)}{\\alpha}\\exp(-\\dfrac{d}{\\alpha})$$\n",
    "\n",
    "Equation for temperature profile:\n",
    "$$\\dfrac{\\partial T}{\\partial t} = \\dfrac{\\partial }{\\partial d}\\Big(A_h \\dfrac{\\partial T}{\\partial d}\\Big) -\\dfrac{1}{C_p}\\dfrac{\\partial I}{\\partial d} $$ \n",
    "Expanding the terms using product rule: \n",
    "$$\\dfrac{\\partial T}{\\partial t} = A_h \\dfrac{\\partial^2 T}{\\partial d^2} + \\dfrac{\\partial A_h}{\\partial d} \\dfrac{\\partial T}{\\partial d}- \\dfrac{1}{C_p}\\dfrac{\\partial I}{\\partial d} \\\\ $$\n",
    "At steady state, $\\dfrac{\\partial T}{\\partial t}=0. \\\\$ \n",
    "Hence we rearrange the equation:\n",
    "$$ A_h \\dfrac{\\partial^2 T}{\\partial d^2} + \\dfrac{\\partial A_h}{\\partial d} \\dfrac{\\partial T}{\\partial d}=\\dfrac{1}{C_p}\\dfrac{\\partial I}{\\partial d} \\\\ \\\\$$ \n",
    "\n",
    "We want to design a sequence of approximations,\n",
    "\n",
    "$$T_0,T_1, \\dots , T_i, \\dots,$$ \n",
    "\n",
    "defined at a set of depth points,d \n",
    "\n",
    "$$d_0<d_1< \\dots <d_i< \\dots $$\n",
    "\n",
    "Each $T_i$ is an approximation of the actual temperature at $d_i$ ; that is $$T(d_i) \\approx T(i)$$ \n",
    "\n",
    "$$d_i = d_0+i\\Delta d$$\n",
    "\n",
    "Since $d_0 = 0, d \\approx \\Delta d$\n",
    "\n",
    "We then discretize the terms using Centered Difference Derivative as follows:\n",
    "\n",
    "$$T^\\prime(d_i) \\approx \\frac{T_{i+1}-T_{i-1}}{2 \\Delta d}$$\n",
    "\n",
    "$$T''(d_i) \\approx \\frac{T_{i+1}-2T_i+T_{i-1}}{(\\Delta d)^2}$$\n",
    "\n",
    "Replacing both terms back into the temperature profile:\n",
    "$$ A_h \\dfrac{T_{i+1}-2T_i+T_{i-1}}{(\\Delta d)^2} + \\dfrac{\\partial A_h}{\\partial d} \\dfrac{T_{i+1}-T_{i-1}}{2 \\Delta d}=\\dfrac{1}{C_p}\\dfrac{\\partial I_i}{\\partial d} \\\\ \\\\ $$ \n",
    "\n",
    "Multiply both sides by $2(\\Delta d)^2$\n",
    "\n",
    " $$ 2A_h \\Big(T_{i+1}-2T_i+T_{i-1}\\Big) + \\Delta d  \\Big(\\dfrac{\\partial A_h}{\\partial d} T_{i+1}-T_{i-1} \\Big)=\\dfrac{2(\\Delta d)^2}{C_p}\\dfrac{\\partial I_i}{\\partial d} \\\\ \\\\ $$ \n",
    " \n",
    "If we discretize this equation at $N$ discrete points, set $d_i=i\\Delta = 1 $,\n",
    "$i=0,1,\\dots,N$, where $d = 1/N$ is the grid spacing, then the ordinary\n",
    "differential equation can be approximated at a point $d_i$ by the\n",
    "following system of linear equations:\n",
    "\n",
    "(Discrete Differential Equation)\n",
    "\n",
    "$$ 2A_hT_{i-1}-4A_h T_i+\\Big( 2A_h +  \\frac{\\partial A_h}{\\partial d}\\Big)T_{i+1}  = \\dfrac{1}{A_hC_p}\\dfrac{\\partial I_i}{\\partial d} $$\n",
    "\n",
    "$$ T_{i-1}-2 T_i+\\Big(1+\\dfrac{1}{2A_h} \\dfrac{\\partial A_h}{\\partial d}\\Big)T_{i+1}  = \\dfrac{2}{C_p}\\dfrac{\\partial I_i}{\\partial d} $$\n",
    "\n",
    "\n",
    "##### Boundary conditions: \n",
    "\n",
    "$ T\\big( d(0)\\big) = -1 \\space \\text{(surface temperature)} $\n",
    "\n",
    "$ T(\\big( d(200)\\big) = -2  \\space \\text{(in water column)}$\n",
    "\n",
    "for $d<h$, $$A_h = A_{max}$$ $$ \\frac{\\partial A_{h}}{\\partial d} = 0$$ \n",
    "\n",
    "for $d>h$,$$A_h = A_{depth}+ \\big[ A_{max}-A_{depth}-A_{dip}(d-h) \\big] e^{-0.5(d-h)}, \\\\ \\\\  \\dfrac{\\partial A_h}{\\partial d} = \\big[A_{max}-A_{depth}+A_{dip}h \\big] e^{-0.5(d-h)} -0.5\\big[ A_{max}-A_{depth}-A_{dip}(d-h) \\big] e^{-0.5(d-h)} $$\n"
   ]
  },
  {
   "cell_type": "markdown",
   "metadata": {},
   "source": [
    "Let's look at it case by case.\n",
    "\n",
    "Firstly for $d<h,$ $$T_{i-1}-2 T_i+T_{i+1}  = -\\dfrac{2}{C_p} \\dfrac{100(1-\\beta)(1-\\epsilon)}{\\alpha}\\exp(-\\dfrac{d_i}{\\alpha}) $$ "
   ]
  },
  {
   "cell_type": "markdown",
   "metadata": {},
   "source": [
    "If we write out all of the equations, for the unknown values\n",
    "$i=1,\\dots,N-1$, along with the boundary conditions at $i=0,N$, we\n",
    "obtain the following set of $N+1$ equations in $N+1$ unknowns:\n",
    "\n",
    "(Differential System)\n",
    "\n",
    "for d < 10 \n",
    "$$\\begin{array}{ccccccccccc}\n",
    "  T_0 & &     & &       & &       &&   &=& -1 \\\\\n",
    "  T_0 & -& 2T_1 & + &  T_2  & &         & &     &=& -\\dfrac{2}{C_p} \\dfrac{100(1-\\beta)(1-\\epsilon)}{\\alpha}\\exp(-\\dfrac{d_1}{\\alpha})\\\\\n",
    "      & & T_1 &-& 2 T_2  &+& T_3     & &     &=&  -\\dfrac{2}{C_p} \\dfrac{100(1-\\beta)(1-\\epsilon)}{\\alpha}\\exp(-\\dfrac{d_2}{\\alpha})\\\\\n",
    "      & &     & &       & & \\dots   & &     &=& \\\\\n",
    "      & &     & &T_{8}&-& 2T_{9}&+& T_{10} &=& f_{9}\\\\\n",
    "      & &     & &       & &         & & T_{10} &=& f_{10}  \n",
    "\\end{array}$$"
   ]
  },
  {
   "cell_type": "markdown",
   "metadata": {},
   "source": [
    "Remember that this system, like any other linear system, can be written\n",
    "in matrix notation as\n",
    "\n",
    "\n",
    "(Differential System Matrix)\n",
    "$$\\underbrace{\\left[\n",
    "      \\begin{array}{ccccccccc}\n",
    "        1&  0  & & \\dots  & & & & & 0 \\\\\n",
    "        1& {-2} & {1} & {0} & {\\dots} & && &  \\\\\n",
    "        0& {1} & {-2} &  {1} & {0} & {\\dots} & & &  \\\\\n",
    "        & {0} & {1}  & {-2} & {1} & {0} & {\\dots} & &  \\\\\n",
    "        & & & & & & & & \\\\\n",
    "        \\vdots & & & {\\ddots} & {\\ddots} & {\\ddots} & {\\ddots} & {\\ddots} & \\vdots \\\\\n",
    "        & & & {\\dots} & {0} & {1} & {-2} & {1} & 0 \\\\\n",
    "        & &  & &{\\dots} & {0} & {1} & {-2} & 1 \\\\\n",
    "        0& & & & & \\dots & & 0 & 1      \n",
    "      \\end{array}\n",
    "    \\right]\n",
    "    }_{A_1}\n",
    "  \\underbrace{\\left[\n",
    "      \\begin{array}{c}\n",
    "        T_0 \\\\ {T_1} \\\\ {T_2} \\\\ {T_3} \\\\ \\ \\\\ {\\vdots} \\\\ \\\n",
    "        \\\\ {T_{N-2}} \\\\ {T_{N-1}} \\\\ T_N\n",
    "      \\end{array}\n",
    "    \\right]\n",
    "    }_{}\n",
    "  = \n",
    "    \\underbrace{\\left[\n",
    "      \\begin{array}{c}\n",
    "        f_0 = -1 \\\\ {f_1} \\\\ {f_2} \\\\ { f_3} \\\\ \\ \\\\\n",
    "        {\\vdots} \\\\ \\ \\\\ {f_{N-2}} \\\\ { f_{N-1}} \\\\ f_N \n",
    "      \\end{array}\n",
    "    \\right] \n",
    "    }_{F}$$\n",
    "\n",
    "or, simply $A_1 T = F$.\n"
   ]
  },
  {
   "cell_type": "markdown",
   "metadata": {},
   "source": [
    "for $d>h,$ \n",
    "\n",
    "$$T_{i-1}-2 T_i+\\Big(1+\\dfrac{1}{2 \\cdot A_{depth}+ \\big[ A_{max}-A_{depth}-A_{dip}(d-h) \\big] e^{-0.5(d-h)}} \\cdot \\big[A_{max}-A_{depth}+A_{dip}h \\big] e^{-0.5(d-h)} -0.5\\big[ A_{max}-A_{depth}-A_{dip}(d-h) \\big] e^{-0.5(d-h)} \\Big)T_{i+1}  =  -\\dfrac{2}{C_p} \\dfrac{100(1-\\beta)(1-\\epsilon)}{\\alpha}\\exp(-\\dfrac{d_i}{\\alpha})  $$ "
   ]
  },
  {
   "cell_type": "code",
   "execution_count": 171,
   "metadata": {},
   "outputs": [
    {
     "name": "stdout",
     "output_type": "stream",
     "text": [
      "Near Surface Temperature Maximum (NSTM) =-0.8744941271293623℃ at depth 28 meters below water surface.\n"
     ]
    },
    {
     "data": {
      "image/png": "[encoded data removed]",
      "text/plain": [
       "<Figure size 1440x720 with 1 Axes>"
      ]
     },
     "metadata": {
      "needs_background": "light"
     },
     "output_type": "display_data"
    }
   ],
   "source": [
    "import numpy as np \n",
    "from scipy.sparse import diags\n",
    "from matplotlib import pyplot as plt\n",
    "\n",
    "# Parameters\n",
    "Beta = 0.5\n",
    "I_0 = 100\n",
    "albedo = 0.1\n",
    "T_0 = -1\n",
    "T_200 = -2\n",
    "alpha = 10\n",
    "h = 10\n",
    "c_p = 4e6\n",
    "\n",
    "A_max = 1e-2\n",
    "A_depth = 1e-4\n",
    "A_dip = 1.5e-3\n",
    "\n",
    "\n",
    "x_0 = 0\n",
    "x_n = 200\n",
    "dx = 1\n",
    "x = np.arange(x_0,x_n+dx,dx)\n",
    "n = len(x)\n",
    "\n",
    "dI = -I_0*(1-albedo)*(1-Beta)*np.exp(-x/alpha)/alpha\n",
    "\n",
    "A_h = A_max*np.ones(np.shape(x))\n",
    "A_h[x>h] = A_depth+(A_max-A_depth-A_dip*(x[x>h]-h))*np.exp(-0.5*(x[x>h]-h))\n",
    "\n",
    "dA_h = np.zeros(np.shape(A_h))\n",
    "dA_h[x>h] = -A_dip*np.exp(-0.5*(x[x>h]-h))-0.5*(A_max-A_depth-A_dip*(x[x>h]-h))*np.exp(-0.5*(x[x>h]-h))\n",
    "\n",
    "f = dI/c_p\n",
    "f[0] = T_0\n",
    "f[-1] = T_200\n",
    "\n",
    "K1 = ((-1*np.eye(n,k=-1)+np.eye(n,k=1)).T*dA_h).T/(2*dx)\n",
    "K2 = ((np.eye(n,k=-1)-2*np.eye(n,k=0)+np.eye(n,k=1)).T*A_h).T/(dx**2)\n",
    "\n",
    "K = K1 + K2\n",
    "K[0,:] = [1, *np.zeros(n-1)]\n",
    "K[-1,:] = [*np.zeros(n-1), 1]\n",
    "\n",
    "T = np.linalg.solve(K,f)\n",
    "plt.figure(figsize=(20,10))\n",
    "plt.plot(x,T)\n",
    "plt.xlabel('Depth, m',fontsize=12)\n",
    "plt.ylabel('Temperature, $^\\circ$C',fontsize=12)\n",
    "plt.title('Temperature against Depth in waters of Canada Basin')\n",
    "n_max = T.argmax()\n",
    "plt.plot(x[n_max],T[n_max],'o')\n",
    "nstm = max(T)\n",
    "print('Near Surface Temperature Maximum (NSTM) =' + str(nstm) +'℃ at depth ' +str(n_max) + ' meters below water surface.')\n",
    "plt.savefig('Temperature against Depth in waters of Canada Basin.png')\n",
    "\n",
    "\n"
   ]
  },
  {
   "cell_type": "markdown",
   "metadata": {},
   "source": [
    "NSTM = -0.874 ℃ at depth 28m below water surface. This aligns with the prediction from Jackson et al. where near‐surface temperature maximum (NSTM) at typical depths of 25–35 m has been previously\n",
    "described.\n",
    "\n",
    "A seasonal halocline forms in summer once enough sea ice melt has accumulated to separate the\n",
    "surface mixed layer from the NSTM. The NSTM becomes trapped below the summer\n",
    "halocline, thereby storing heat from solar radiation. This heat can be stored year‐round in\n",
    "the Canada Basin if the halocline is strong enough to persist through winter. Hence NSTM layer is located below sea surface level."
   ]
  },
  {
   "cell_type": "code",
   "execution_count": null,
   "metadata": {},
   "outputs": [],
   "source": []
  },
  {
   "cell_type": "code",
   "execution_count": null,
   "metadata": {},
   "outputs": [],
   "source": [
    "\n",
    "\n",
    "    "
   ]
  },
  {
   "cell_type": "markdown",
   "metadata": {},
   "source": [
    "\n"
   ]
  },
  {
   "cell_type": "code",
   "execution_count": null,
   "metadata": {},
   "outputs": [],
   "source": []
  }
 ],
 "metadata": {
  "kernelspec": {
   "display_name": "Python 3.7.4 64-bit ('pylove': conda)",
   "language": "python",
   "name": "python37464bitpyloveconda3c665d5f57e9465e860e061add1d9ff2"
  },
  "language_info": {
   "codemirror_mode": {
    "name": "ipython",
    "version": 3
   },
   "file_extension": ".py",
   "mimetype": "text/x-python",
   "name": "python",
   "nbconvert_exporter": "python",
   "pygments_lexer": "ipython3",
   "version": "3.7.4"
  }
 },
 "nbformat": 4,
 "nbformat_minor": 4
}
